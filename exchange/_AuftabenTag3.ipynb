{
 "cells": [
  {
   "cell_type": "markdown",
   "id": "6e22d17f-273a-40da-b451-4f85544c8edb",
   "metadata": {},
   "source": [
    "##### Create MBRs from Gemeinden"
   ]
  },
  {
   "cell_type": "code",
   "execution_count": null,
   "id": "aca186c1-49ef-4339-b62c-49db0cdb4452",
   "metadata": {},
   "outputs": [],
   "source": [
    "import osgeo.ogr\n",
    "import osgeo.osr\n",
    "import osgeo.gdal\n",
    "import osgeo.gdalconst\n",
    "import sys\n",
    "\n",
    "sourcelayer = \"../Data/Gemeinden_Solothurn.shp\"\n",
    "destinationlayername = \"../Data/gemSoMBR.shp\"\n",
    "destinationformat = \"ESRI Shapefile\"\n",
    "sourcefieldname = \"name\"\n",
    "\n",
    "shapefile = osgeo.ogr.Open(sourcelayer)\n",
    "sourcelayer = shapefile.GetLayer(0)\n",
    "srs = osr.SpatialReference()\n",
    "srs.ImportFromProj4(sourcelayer.GetSpatialRef().ExportToProj4())\n",
    "\n",
    "driver = osgeo.ogr.GetDriverByName(destinationformat)\n",
    "destinationFile = driver.CreateDataSource(destinationlayername)\n",
    "destinationLayer = destinationFile.CreateLayer(destinationlayername[0:len(destinationlayername)-4], srs)\n",
    "\n",
    "#Create Field to store the name\n",
    "fieldDef = osgeo.ogr.FieldDefn(sourcefieldname, osgeo.ogr.OFTString)\n",
    "fieldDef.SetWidth(100)\n",
    "destinationLayer.CreateField(fieldDef)\n",
    "\n",
    "feature = sourcelayer.GetNextFeature()\n",
    "while feature:\n",
    "    #Get value of Feature-Name\n",
    "    ftrName = feature.GetField(sourcefieldname)\n",
    "    #Get MBR\n",
    "    geometry = feature.GetGeometryRef()\n",
    "    minEasting,maxEasting,minNorthing,maxNorthing = geometry.GetEnvelope()\n",
    "    #print(\"*\"*20)\n",
    "    #print(geometry.GetEnvelope())\n",
    "\n",
    "    linearRing = osgeo.ogr.Geometry(osgeo.ogr.wkbLinearRing)\n",
    "    linearRing.AddPoint(minEasting, minNorthing)\n",
    "    linearRing.AddPoint(maxEasting, minNorthing)\n",
    "    linearRing.AddPoint(maxEasting, maxNorthing)\n",
    "    linearRing.AddPoint(minEasting, maxNorthing)\n",
    "    linearRing.AddPoint(minEasting, minNorthing)\n",
    "    mbr = osgeo.ogr.Geometry(osgeo.ogr.wkbPolygon)\n",
    "    mbr.AddGeometry(linearRing)\n",
    "    mbrfeature = osgeo.ogr.Feature(destinationLayer.GetLayerDefn())\n",
    "    mbrfeature.SetGeometry(mbr)\n",
    "    mbrfeature.SetField(sourcefieldname, ftrName)\n",
    "    destinationLayer.CreateFeature(mbrfeature)\n",
    "    mbrfeature.Destroy()\t\n",
    "\t\n",
    "    feature = sourcelayer.GetNextFeature()\n",
    "\n",
    "shapefile.Destroy()\n",
    "destinationFile.Destroy()\n",
    "print (\"Datei wurde erstellt: %s\" %(destinationlayername))\n"
   ]
  },
  {
   "cell_type": "code",
   "execution_count": null,
   "id": "e4e1c726-37e4-412f-9834-0d8838e55276",
   "metadata": {},
   "outputs": [],
   "source": []
  },
  {
   "cell_type": "markdown",
   "id": "45635a7a-2c85-4901-aa19-182bd1545fc6",
   "metadata": {},
   "source": [
    "##### Finde die Fehler und korrigiere sie"
   ]
  },
  {
   "cell_type": "code",
   "execution_count": 17,
   "id": "99e4f2b1-4f32-4452-80d0-9a86a8d0418d",
   "metadata": {},
   "outputs": [
    {
     "name": "stdin",
     "output_type": "stream",
     "text": [
      "Gemeindename: Seewen\n"
     ]
    },
    {
     "name": "stdout",
     "output_type": "stream",
     "text": [
      "Ausgabe siehe ../Data/_Seewen.csv\n"
     ]
    }
   ],
   "source": [
    "import osgeo.ogr\n",
    "import sys\n",
    "\n",
    "\n",
    "def extractPoints(geometry,expFl):\n",
    "    for (i+1) in range(geometry.GetPointCount()):\n",
    "        x,y,z = geometry.GetPoint(i)\n",
    "        expFl.write( f\"{i+1},{x},{y}/n\")\n",
    "    \n",
    "    for i in range(geometry.GetGeometryCount()):\n",
    "        extractPoinsts(geometry.GetGeometryRef(i),expFl)\n",
    "\n",
    "gemname = input(\"Gemeindename:\")\n",
    "\n",
    "logFl = f\"../Data/_{gemname}.csv\"\n",
    "exportfile = open(logFl, \"w\")\n",
    "\n",
    "\n",
    "shapefile = ogr.Open(\"../Data/Gemeinden_Solothurn.shp\")\n",
    "if shapefile is None:\n",
    "    exportfile.write( \"Datensatz konnte nicht geoeffnet werden.\\n\" + \"\\n\")\n",
    "    sys.exit( 1 )\n",
    "\n",
    "layer = shapefile.GetLayer()\n",
    "#geometry = feature.GetGeometryRef()\n",
    "\n",
    "Gemeindegeometry extrahieren:\n",
    "geometry = None\n",
    "for feature in layer:\n",
    "    if feature.GetField(\"NAME\") = gemname:\n",
    "        geometry = feature.GetGeometryRef()\n",
    "        breaks\n",
    "\n",
    "if geometry is None:\n",
    "    exportfile.write( \"*\" * 20 + \"\\n\")\n",
    "    exportfile.write( \"Fuer %s konnte keine Geometrie ermittelt werden.\" %gemname + \"\\n\")\n",
    "    exportfile.write( \"*\" * 20 + \"\\n\")\n",
    "    sys.exit()\n",
    "\t\n",
    "exportfile.write( \"pid,x,y\\n\")\n",
    "extractPoints(geometry,exportfile)\n",
    "exportfile.write( \"-\" * 50 + \"\\n\")\n",
    "print(f\"Ausgabe siehe {logFl}\")\n",
    "exportfile.close()\n",
    "print \"Ende\""
   ]
  },
  {
   "cell_type": "code",
   "execution_count": null,
   "id": "7f064453-1052-4392-85af-8f6d99740378",
   "metadata": {},
   "outputs": [],
   "source": []
  },
  {
   "cell_type": "markdown",
   "id": "e61c2566-fe7a-4c0d-9d78-71b3f61da6bf",
   "metadata": {},
   "source": [
    "FEHLER:\n",
    "\n",
    "1. Zeile 8: / statt \\\n",
    "2. Zeile 6: +1 zuviel\n",
    "3. Zeile 11: ein 's' zuviel\n",
    "4. Zeile 24: 0 fehlt in ()\n",
    "5. Zeile 27: # fehlt\n",
    "6. Zeile 30: == statt =\n",
    "7. Zeile 32 break statt breaks\n",
    "8. Zeile 45: Klammern fehlen"
   ]
  },
  {
   "cell_type": "markdown",
   "id": "e7f2c704-4bb6-4be7-a2f0-364bbdc772f7",
   "metadata": {},
   "source": [
    "#### KORREKTE VERSION:"
   ]
  },
  {
   "cell_type": "code",
   "execution_count": 17,
   "id": "ff6614b1-e964-453a-9d4e-8fe7c685aeb5",
   "metadata": {},
   "outputs": [
    {
     "name": "stdin",
     "output_type": "stream",
     "text": [
      "Gemeindename: Seewen\n"
     ]
    },
    {
     "name": "stdout",
     "output_type": "stream",
     "text": [
      "Ausgabe siehe ../Data/_Seewen.csv\n"
     ]
    }
   ],
   "source": [
    "import osgeo.ogr\n",
    "import sys\n",
    "\n",
    "\n",
    "def extractPoints(geometry,expFl):\n",
    "    for (i) in range(geometry.GetPointCount()):\n",
    "        x,y,z = geometry.GetPoint(i)\n",
    "        expFl.write( f\"{i+1},{x},{y}\\n\")\n",
    "    \n",
    "    for i in range(geometry.GetGeometryCount()):\n",
    "        extractPoints(geometry.GetGeometryRef(i),expFl)\n",
    "\n",
    "gemname = input(\"Gemeindename:\")\n",
    "\n",
    "logFl = f\"../Data/_{gemname}.csv\"\n",
    "exportfile = open(logFl, \"w\")\n",
    "\n",
    "\n",
    "shapefile = ogr.Open(\"../Data/Gemeinden_Solothurn.shp\")\n",
    "if shapefile is None:\n",
    "    exportfile.write( \"Datensatz konnte nicht geoeffnet werden.\\n\" + \"\\n\")\n",
    "    sys.exit( 1 )\n",
    "\n",
    "layer = shapefile.GetLayer(0)\n",
    "#geometry = feature.GetGeometryRef()\n",
    "\n",
    "#Gemeindegeometry extrahieren:\n",
    "geometry = None\n",
    "for feature in layer:\n",
    "    if feature.GetField(\"NAME\") == gemname:\n",
    "        geometry = feature.GetGeometryRef()\n",
    "        break\n",
    "\n",
    "if geometry is None:\n",
    "    exportfile.write( \"*\" * 20 + \"\\n\")\n",
    "    exportfile.write( \"Fuer %s konnte keine Geometrie ermittelt werden.\" %gemname + \"\\n\")\n",
    "    exportfile.write( \"*\" * 20 + \"\\n\")\n",
    "    sys.exit( 1 )\n",
    "\t\n",
    "exportfile.write( \"pid,x,y\\n\")\n",
    "extractPoints(geometry,exportfile)\n",
    "exportfile.write( \"-\" * 50 + \"\\n\")\n",
    "print(f\"Ausgabe siehe {logFl}\")\n",
    "exportfile.close()\n"
   ]
  },
  {
   "cell_type": "code",
   "execution_count": null,
   "id": "a2a79254-8133-48eb-876e-ae0740105509",
   "metadata": {},
   "outputs": [],
   "source": []
  },
  {
   "cell_type": "code",
   "execution_count": null,
   "id": "39801da6-183f-44ba-b49f-ab1da6faa5d0",
   "metadata": {},
   "outputs": [],
   "source": []
  },
  {
   "cell_type": "code",
   "execution_count": null,
   "id": "589571c3-5cca-476c-ac0d-ad8ee8a74f4e",
   "metadata": {},
   "outputs": [],
   "source": []
  },
  {
   "cell_type": "markdown",
   "id": "e9266dbc-940c-4df5-8daf-5efd21caf4bc",
   "metadata": {},
   "source": [
    "#### Donut-Geometrie erstellen"
   ]
  },
  {
   "cell_type": "code",
   "execution_count": 8,
   "id": "0a3fa757-e556-41f1-8c50-b78d3c73c19d",
   "metadata": {},
   "outputs": [
    {
     "name": "stdout",
     "output_type": "stream",
     "text": [
      "Erstellung abgeschlossen\n"
     ]
    }
   ],
   "source": [
    "from osgeo import ogr,osr\n",
    "import os\n",
    "#Definition SRS\n",
    "srs = osr.SpatialReference()\n",
    "srs.SetWellKnownGeogCS('WGS84')\n",
    "\n",
    "#Erstellen der neuen Ebene/Layer\n",
    "driver = ogr.GetDriverByName(\"Esri Shapefile\")\n",
    "flNm = \"../Data/Donut.shp\"\n",
    "if os.path.exists(flNm):\n",
    "    driver.DeleteDataSource(flNm)\n",
    "destinationFile = driver.CreateDataSource(flNm)\n",
    "destinationLayer = destinationFile.CreateLayer(\"Layer\", srs)\n",
    "\n",
    "#Festlegung der Attribute\n",
    "fieldDef = ogr.FieldDefn('Id', ogr.OFTInteger)\n",
    "destinationLayer.CreateField(fieldDef)\n",
    "fieldDef = ogr.FieldDefn(\"Name\",ogr.OFTString)\n",
    "fieldDef.SetWidth(80)\n",
    "destinationLayer.CreateField(fieldDef)\n",
    "fieldDef = ogr.FieldDefn(\"Bemerkung\", ogr.OFTString)\n",
    "fieldDef.SetWidth(100)\n",
    "destinationLayer.CreateField(fieldDef)\n",
    "\n",
    "#Erstellen eines Features\n",
    "ftrName = \"Erstes Feature\"\n",
    "ftrBem = \"Dies ist mein erstes selbst erstelltes Features\"\n",
    "\n",
    "#geometry = feature.GetGeometryRef()\n",
    "minEasting = 10\n",
    "maxEasting = 20\n",
    "minNorthing = 15\n",
    "maxNorthing = 25\n",
    "\n",
    "#Definition des OGR Geometrieobjekts als LinearRing\n",
    "linearRing = ogr.Geometry(ogr.wkbLinearRing)\n",
    "#Hinzufügen der Stützpunkte des LinearRing\n",
    "linearRing.AddPoint(minEasting, minNorthing)\n",
    "linearRing.AddPoint(maxEasting, minNorthing)\n",
    "linearRing.AddPoint(maxEasting, maxNorthing)\n",
    "linearRing.AddPoint(minEasting, maxNorthing)\n",
    "linearRing.AddPoint(minEasting, minNorthing)\n",
    "\n",
    "#Definition des OGR Geometrieobjekts als LinearRing\n",
    "linearRing2 = ogr.Geometry(ogr.wkbLinearRing)\n",
    "#Hinzufügen der Stützpunkte des LinearRing\n",
    "linearRing2.AddPoint(minEasting+3, minNorthing+3)\n",
    "linearRing2.AddPoint(maxEasting-3, minNorthing+3)\n",
    "linearRing2.AddPoint(maxEasting-3, maxNorthing-3)\n",
    "linearRing2.AddPoint(minEasting+3, maxNorthing-3)\n",
    "linearRing2.AddPoint(minEasting+3, minNorthing+3)\n",
    "\n",
    "#Instanzieren der Geometrie als WKBPolygon ins sqr Objekt\n",
    "sqr = ogr.Geometry(ogr.wkbPolygon)\n",
    "#Zuweisen der Geometrie zum instanzierten Objekt\n",
    "sqr.AddGeometry(linearRing)\n",
    "sqr.AddGeometry(linearRing2)\n",
    "#Neues Feature erhält Attributdefinition\n",
    "sqrfeature = ogr.Feature(destinationLayer.GetLayerDefn())\n",
    "#Neues Feature erhält Geometrie\n",
    "sqrfeature.SetGeometry(sqr)\n",
    "#Neues Feature erhält für das Attribut Name den Wert \"Erstes Feature\"\n",
    "sqrfeature.SetField(\"Id\", 1)\n",
    "sqrfeature.SetField(\"Name\", ftrName)\n",
    "sqrfeature.SetField(\"Bemerkung\", ftrBem)\n",
    "#Erstellung des Features im neuen Layer\n",
    "destinationLayer.CreateFeature(sqrfeature)\n",
    "sqrfeature.Destroy()\n",
    "\n",
    "print(\"Erstellung abgeschlossen\")\n",
    "destinationFile.Destroy()\n"
   ]
  },
  {
   "cell_type": "code",
   "execution_count": null,
   "id": "bb17aff8-5555-4eb3-b610-4720d378476e",
   "metadata": {},
   "outputs": [],
   "source": []
  }
 ],
 "metadata": {
  "kernelspec": {
   "display_name": "Python 3 (ipykernel)",
   "language": "python",
   "name": "python3"
  },
  "language_info": {
   "codemirror_mode": {
    "name": "ipython",
    "version": 3
   },
   "file_extension": ".py",
   "mimetype": "text/x-python",
   "name": "python",
   "nbconvert_exporter": "python",
   "pygments_lexer": "ipython3",
   "version": "3.12.2"
  }
 },
 "nbformat": 4,
 "nbformat_minor": 5
}
