{
 "cells": [
  {
   "cell_type": "markdown",
   "id": "69bd0e3b",
   "metadata": {
    "hide_input": false
   },
   "source": [
    "# Kurs Geoprocessing mit Python und Opensource Komponenten 2023 ETH Zürich"
   ]
  },
  {
   "cell_type": "markdown",
   "id": "ad0b47de",
   "metadata": {},
   "source": [
    "1. bis 3.3. 2023"
   ]
  },
  {
   "cell_type": "markdown",
   "id": "b1de5e18",
   "metadata": {},
   "source": [
    "## TEIL I\n",
    "1.3.2023"
   ]
  },
  {
   "cell_type": "markdown",
   "id": "52037d0c",
   "metadata": {},
   "source": [
    "Umprojizierung Gemeinden von LV03 nach WGS84"
   ]
  },
  {
   "cell_type": "code",
   "execution_count": null,
   "id": "e1468ca0",
   "metadata": {
    "hide_input": false
   },
   "outputs": [],
   "source": [
    "import os\n",
    "os.system('ogr2ogr -f \"Esri Shapefile\" -t_srs \"EPSG:4326\" \\\n",
    "          Data/GEM_SO_WGS84.shp Data/Gemeinden_Solothurn.shp -overwrite')"
   ]
  },
  {
   "cell_type": "markdown",
   "id": "cd152985",
   "metadata": {},
   "source": [
    "Umwandlung in KML:"
   ]
  },
  {
   "cell_type": "code",
   "execution_count": null,
   "id": "70a45bcf",
   "metadata": {},
   "outputs": [],
   "source": [
    "import os\n",
    "os.system('ogr2ogr -f \"KML\" Data/GEM_SO.kml Data/Gemeinden_Solothurn.shp')"
   ]
  },
  {
   "cell_type": "markdown",
   "id": "70b64ec1",
   "metadata": {},
   "source": [
    "# Arbeiten mit Vektordaten"
   ]
  },
  {
   "cell_type": "code",
   "execution_count": null,
   "id": "238900ff",
   "metadata": {},
   "outputs": [],
   "source": [
    "from osgeo import ogr\n",
    "import os\n",
    "\n",
    "drv = ogr.GetDriverByName(\"Esri Shapefile\")\n",
    "path2ds = os.path.join(\"Data\",\"Gemeinden_Solothurn.shp\")\n",
    "print(path2ds)\n",
    "\n",
    "datasource = drv.Open(path2ds)\n",
    "layer = datasource.GetLayer()\n",
    "#print(layer)\n",
    "\n",
    "numFtrs = layer.GetFeatureCount()\n",
    "print(f\"Anzahl Features: {numFtrs}\")\n"
   ]
  },
  {
   "cell_type": "markdown",
   "id": "56f20792",
   "metadata": {},
   "source": [
    "**so nicht!!**:"
   ]
  },
  {
   "cell_type": "markdown",
   "id": "ea7ef93d",
   "metadata": {},
   "source": [
    "fuerSaraina = ogr.GetDriverByName(\"Esri Shapefile\").Open(os.path.join(\"Data\",\"Gemeinden_Solothurn.shp\")).GetLayer(0).GetFeatureCount()\n",
    "print(fuerSaraina)"
   ]
  },
  {
   "cell_type": "code",
   "execution_count": null,
   "id": "844e4b74",
   "metadata": {
    "hide_input": true
   },
   "outputs": [],
   "source": [
    "layerDef = layer.GetLayerDefn()\n",
    "numAtts = layerDef.GetFieldCount()\n",
    "print(f\"Anzahl Attribute: {numAtts}\")\n"
   ]
  },
  {
   "cell_type": "code",
   "execution_count": null,
   "id": "0506ace1",
   "metadata": {},
   "outputs": [],
   "source": [
    "for i in range(numAtts):\n",
    "    fieldDef = layerDef.GetFieldDefn(i)\n",
    "    print(f\"Attributname: {fieldDef.GetName()}, Typ: {fieldDef.GetType()}\")"
   ]
  },
  {
   "cell_type": "code",
   "execution_count": null,
   "id": "462eb991",
   "metadata": {},
   "outputs": [],
   "source": [
    "spatialRef = layer.GetSpatialRef()\n",
    "#print(f\"Layer '{layer.GetName()}' hat das SRS: \\n{spatialRef}\")\n",
    "print(\"Layer '%s' hat das SRS: \\n%s mit %s Features.\" %(layer.GetName(),spatialRef,numFtrs) )"
   ]
  },
  {
   "cell_type": "code",
   "execution_count": null,
   "id": "f1dc9764",
   "metadata": {},
   "outputs": [],
   "source": [
    "#Raeumliche Ausdehnung:\n",
    "extent = layer.GetExtent()\n",
    "print(extent)"
   ]
  },
  {
   "cell_type": "code",
   "execution_count": null,
   "id": "7cf3faea",
   "metadata": {},
   "outputs": [],
   "source": [
    "ulx = extent[0]\n",
    "uly = extent[2]\n",
    "orx = extent[1]\n",
    "ory = extent[3]\n",
    "print(f\"Ausdehnung des Datensatzes '{layer.GetName()}':\\nUnten links: ({ulx},{uly}) und oben rechts: ({orx},{ory})\")"
   ]
  },
  {
   "cell_type": "code",
   "execution_count": null,
   "id": "1a450391",
   "metadata": {},
   "outputs": [],
   "source": [
    "print('Unten-links:', extent[0], extent[2])\n",
    "print('Oben-rechts:', extent[1], extent[3])"
   ]
  },
  {
   "cell_type": "markdown",
   "id": "b06e6b66",
   "metadata": {},
   "source": [
    "GetGeomType()"
   ]
  },
  {
   "cell_type": "code",
   "execution_count": null,
   "id": "d2d1dd6e",
   "metadata": {},
   "outputs": [],
   "source": [
    "GeomType = ogr.GeometryTypeToName(layer.GetGeomType())\n",
    "print(\"Geometrietyp: %s\" %GeomType)"
   ]
  },
  {
   "cell_type": "markdown",
   "id": "250a86a8",
   "metadata": {},
   "source": [
    "Analyse Weltdatensatz **\"TM_WORLD_BORDERS-0.3.shp\"**"
   ]
  },
  {
   "cell_type": "code",
   "execution_count": null,
   "id": "bb295921",
   "metadata": {},
   "outputs": [],
   "source": [
    "from osgeo import ogr\n",
    "import os \n",
    "\n",
    "def metadataFromGisLayer(lyr,printOption=False):\n",
    "    drv = ogr.GetDriverByName(\"ESRI Shapefile\")\n",
    "    path2ds = lyr\n",
    "    datasource = drv.Open(path2ds)\n",
    "\n",
    "    mylayer = datasource.GetLayer(0)\n",
    "    print(f\"Nun gesetzt: {mylayer.GetName()}\")\n",
    "\n",
    "    ftrcnt = mylayer.GetFeatureCount()\n",
    "    mylayerDef = mylayer.GetLayerDefn()\n",
    "    numatts = mylayerDef.GetFieldCount()\n",
    "    if printOption:\n",
    "        print(\"Der Datensatz '%s' hat %i Länder mit je %i Attributen\" %(mylayer.GetName(),int(ftrcnt),int(numatts)))\n",
    "    for i in range(numatts):\n",
    "        fieldDef = mylayerDef.GetFieldDefn(i)\n",
    "        if printOption:\n",
    "            print(\"Attribut  %s ist vom Typ %s\" %(fieldDef.GetName(),fieldDef.GetType()))\n",
    "    sRs = mylayer.GetSpatialRef()\n",
    "    if printOption:\n",
    "        print(\"Layer %s hat folgendes Räumliches Bezugssytem: %s\" %(mylayer.GetName(),sRs))\n",
    "\n",
    "    extent = mylayer.GetExtent()\n",
    "    if printOption:\n",
    "        print(extent)\n",
    "    ulx = round(float(extent[0]),4)\n",
    "    uly = round(float(extent[2]),4)\n",
    "    orx = round(float(extent[1]),4)\n",
    "    ory = round(float(extent[3]),4)\n",
    "    if printOption:\n",
    "        print(f\"Ausdehnung des Datensatzes '{mylayer.GetName()}':\\nUnten links: ({ulx},{uly}) und oben rechts: ({orx},{ory})\")\n",
    "\n",
    "        \n",
    "        "
   ]
  },
  {
   "cell_type": "code",
   "execution_count": null,
   "id": "64af443f",
   "metadata": {},
   "outputs": [],
   "source": [
    "myLyr = \"Data/TM_WORLD_BORDERS-0.3.shp\"\n",
    "lyrInstance = metadataFromGisLayer(myLyr)"
   ]
  },
  {
   "cell_type": "markdown",
   "id": "da0e5fe8",
   "metadata": {},
   "source": [
    "## TEIL II\n",
    "2.3.2023\n",
    "<p>Hilfreich: <a href='https://pcjericks.github.io/py-gdalogr-cookbook/layers.html'>https://pcjericks.github.io/py-gdalogr-cookbook/layers.html</a>"
   ]
  },
  {
   "cell_type": "code",
   "execution_count": null,
   "id": "bcdaa615",
   "metadata": {},
   "outputs": [],
   "source": [
    "path2ds = os.path.join(\"Data\",\"Gemeinden_Solothurn.shp\")\n",
    "lyrInstance = metadataFromGisLayer(path2ds)"
   ]
  },
  {
   "cell_type": "code",
   "execution_count": null,
   "id": "5042c3aa",
   "metadata": {},
   "outputs": [],
   "source": [
    "from osgeo import ogr, os\n",
    "\n",
    "drv = ogr.GetDriverByName(\"ESRI Shapefile\")\n",
    "path2ds = os.path.join(\"Data\",\"Gemeinden_Solothurn.shp\")\n",
    "datasource = drv.Open(path2ds)\n",
    "mylayer = datasource.GetLayer(0)\n",
    "\n",
    "feature = mylayer.GetFeature(12)\n",
    "attributes = feature.items()\n",
    "for key,value in attributes.items():\n",
    "    print(f\"{key}: {value}\")"
   ]
  },
  {
   "cell_type": "markdown",
   "id": "c2d84636",
   "metadata": {},
   "source": [
    "Geometrieinformation über: GetGeometryRef()"
   ]
  },
  {
   "cell_type": "code",
   "execution_count": null,
   "id": "8aba3259",
   "metadata": {},
   "outputs": [],
   "source": [
    "myGeometry = feature.GetGeometryRef()\n",
    "#print(\"Geometrietyp: %s\" %geometry)\n",
    "print(myGeometry.GetGeometryName())\n",
    "print(myGeometry.GetPointCount())\n",
    "print(myGeometry.GetGeometryCount())"
   ]
  },
  {
   "cell_type": "code",
   "execution_count": null,
   "id": "cd258aa1",
   "metadata": {},
   "outputs": [],
   "source": [
    "def analyzeGeometry(geometry, indent=0):\n",
    "    s = []\n",
    "    s.append(\"  \" * indent)\n",
    "    s.append(geometry.GetGeometryName())\n",
    "    if geometry.GetPointCount() > 0:\n",
    "        s.append(\" mit %d Stuetzpunkten\" % geometry.GetPointCount())\n",
    "    if geometry.GetGeometryCount() > 0:\n",
    "        s.append(\" enthaelt:\")\n",
    "\n",
    "    print (\"\".join(s))\n",
    "\n",
    "    for i in range(geometry.GetGeometryCount()):\n",
    "        analyzeGeometry(geometry.GetGeometryRef(i), indent+1)\n"
   ]
  },
  {
   "cell_type": "code",
   "execution_count": null,
   "id": "98219f4c",
   "metadata": {},
   "outputs": [],
   "source": [
    "analyzeGeometry(myGeometry)"
   ]
  },
  {
   "cell_type": "code",
   "execution_count": null,
   "id": "dcd9b495",
   "metadata": {},
   "outputs": [],
   "source": [
    "from osgeo import ogr, os\n",
    "\n",
    "drv = ogr.GetDriverByName(\"ESRI Shapefile\")\n",
    "path2ds = \"Data/TM_WORLD_BORDERS-0.3.shp\"\n",
    "datasource = drv.Open(path2ds)\n",
    "mylayer = datasource.GetLayer(0)\n",
    "\n",
    "feature = mylayer.GetFeature(0)\n",
    "attributes = feature.items()\n",
    "for key,value in attributes.items():\n",
    "    print(f\"{key}: {value}\")\n",
    "myGeometry = feature.GetGeometryRef()\n",
    "analyzeGeometry(myGeometry)"
   ]
  },
  {
   "cell_type": "markdown",
   "id": "404692a5",
   "metadata": {},
   "source": [
    "*Putting it all together...*"
   ]
  },
  {
   "cell_type": "code",
   "execution_count": null,
   "id": "7e54fffd",
   "metadata": {},
   "outputs": [],
   "source": [
    "def featureInfo(lyr,placeName=None,printOption=False):\n",
    "    drv = ogr.GetDriverByName(\"ESRI Shapefile\")\n",
    "    path2ds = lyr\n",
    "    datasource = drv.Open(path2ds)\n",
    "    mylayer = datasource.GetLayer(0)\n",
    "    if printOption:\n",
    "        print(f\"Nun gesetzt: {mylayer.GetName()}\")    \n",
    "\n",
    "    if not placeName is None:\n",
    "        #Attributfilter    \n",
    "        mylayer.SetAttributeFilter(\"NAME = '%s'\" %placeName)\n",
    "    \n",
    "    feature = mylayer.GetNextFeature()\n",
    "    while feature:\n",
    "        attributes = feature.items()\n",
    "        for key,value in attributes.items():\n",
    "            if printOption:\n",
    "                print(\"  %s = %s\" % (key, value))\n",
    "        if printOption:\n",
    "            print()\n",
    "\n",
    "        #Geometrietyp:\n",
    "        gtype = feature.GetGeometryRef().GetGeometryName()\n",
    "        if printOption:\n",
    "            print(\"Geometrietyp: %s\" %gtype)\n",
    "\n",
    "        #Geometrie:\n",
    "        geometry = feature.GetGeometryRef()\n",
    "        if printOption:\n",
    "            print(\"\")\n",
    "        #print \"Geometrietyp: %s\" %geometry\n",
    "        analyzeGeometry(geometry)\n",
    "        if printOption:\n",
    "            print(\"\")\n",
    "        feature = mylayer.GetNextFeature()    "
   ]
  },
  {
   "cell_type": "code",
   "execution_count": null,
   "id": "48150809",
   "metadata": {},
   "outputs": [],
   "source": [
    "path2ds = os.path.join(\"Data\",\"Gemeinden_Solothurn.shp\")\n",
    "#metadataFromGisLayer(path2ds)\n",
    "myPlace2Look4 = None\n",
    "myPlace = input()\n",
    "if myPlace != '':\n",
    "    myPlace2Look4 =myPlace\n",
    "featureInfo(path2ds,myPlace2Look4,True)"
   ]
  },
  {
   "cell_type": "code",
   "execution_count": null,
   "id": "44f7ba33",
   "metadata": {},
   "outputs": [],
   "source": [
    "path2ds = \"Data/TM_WORLD_BORDERS-0.3.shp\"\n",
    "metadataFromGisLayer(path2ds)\n",
    "featureInfo(path2ds,None,True)"
   ]
  },
  {
   "cell_type": "markdown",
   "id": "a9cd51b5",
   "metadata": {},
   "source": [
    "*Umprojektion*"
   ]
  },
  {
   "cell_type": "code",
   "execution_count": 22,
   "id": "d9fb00b7",
   "metadata": {},
   "outputs": [
    {
     "name": "stdout",
     "output_type": "stream",
     "text": [
      "Ausgangskoordinaten: POINT (1120351.57 741921.42)\n",
      "Transformierte Koordinaten: POINT (47.3488070138318 -122.598149943144)\n"
     ]
    }
   ],
   "source": [
    "from osgeo import ogr \n",
    "from osgeo import osr  \n",
    "source = osr.SpatialReference() \n",
    "source.ImportFromEPSG(2927)  \n",
    "\n",
    "target = osr.SpatialReference() \n",
    "target.ImportFromEPSG(4326)  \n",
    "\n",
    "transform = osr.CoordinateTransformation(source, target)  \n",
    "\n",
    "origpnt = \"POINT (1120351.57 741921.42)\"\n",
    "transfpoint = ogr.CreateGeometryFromWkt(origpnt) \n",
    "transfpoint.Transform(transform) \n",
    "print(\"Ausgangskoordinaten: %s\" %origpnt)\n",
    "print(\"Transformierte Koordinaten: %s\" %transfpoint.ExportToWkt())"
   ]
  },
  {
   "cell_type": "code",
   "execution_count": 24,
   "id": "7bc647d3",
   "metadata": {},
   "outputs": [
    {
     "name": "stdout",
     "output_type": "stream",
     "text": [
      "Ausgangskoordinaten: POINT (600000.00 200000.00)\n",
      "Transformierte Koordinaten: POINT (46.9510827718711 7.43863242087181)\n"
     ]
    }
   ],
   "source": [
    "source = osr.SpatialReference() \n",
    "source.ImportFromEPSG(21781)  \n",
    "transform = osr.CoordinateTransformation(source, target)  \n",
    "\n",
    "origpnt = \"POINT (600000.00 200000.00)\"\n",
    "transfpoint = ogr.CreateGeometryFromWkt(origpnt) \n",
    "transfpoint.Transform(transform) \n",
    "print(\"Ausgangskoordinaten: %s\" %origpnt)\n",
    "print(\"Transformierte Koordinaten: %s\" %transfpoint.ExportToWkt())"
   ]
  },
  {
   "cell_type": "code",
   "execution_count": 46,
   "id": "f51bf869",
   "metadata": {},
   "outputs": [
    {
     "name": "stdout",
     "output_type": "stream",
     "text": [
      "Transformierte Koordinaten: x=46.9510827718711, y=7.43863242087181\n"
     ]
    }
   ],
   "source": [
    "def reProj(pnt,s,d):\n",
    "    source = osr.SpatialReference() \n",
    "    source.ImportFromEPSG(s)  \n",
    "    target = osr.SpatialReference() \n",
    "    target.ImportFromEPSG(d) \n",
    "    transform = osr.CoordinateTransformation(source, target)  \n",
    "    transfpoint = ogr.CreateGeometryFromWkt(pnt) \n",
    "    transfpoint.Transform(transform) \n",
    "    return transfpoint.ExportToWkt()\n",
    "\n",
    "origPnt = \"POINT (600000.00 200000.00)\"  \n",
    "reProjPnt = reProj(origPnt,21781,4326).split(\" \")\n",
    "\n",
    "\n",
    "reProjPntX = reProjPnt[1].split(\"(\")[1]\n",
    "reProjPntY = reProjPnt[2].split(\")\")[0]\n",
    "print(f\"Transformierte Koordinaten: x={reProjPntX}, y={reProjPntY}\")"
   ]
  },
  {
   "cell_type": "markdown",
   "id": "c12a3711",
   "metadata": {},
   "source": [
    "# Umgang mit Rasterdaten"
   ]
  },
  {
   "cell_type": "code",
   "execution_count": 47,
   "id": "ad0f6bb5",
   "metadata": {},
   "outputs": [
    {
     "name": "stdout",
     "output_type": "stream",
     "text": [
      "Anzahl Spalten: 5800\n",
      "Anzahl Zeilen: 4800\n",
      "Anzahl Baender: 3\n"
     ]
    }
   ],
   "source": [
    "from osgeo import gdal\n",
    "\n",
    "fn = 'Data/ortho14_5m_rgb_solothurn.tif'\n",
    "ds = gdal.Open(fn)\n",
    "if ds is None:\n",
    "    print ('Datensatz %s konnte nicht geöffnet werden!' %fn)\n",
    "    sys.exit(1)\n",
    "\n",
    "#Dimension des Rasterbildes\n",
    "cols = ds.RasterXSize\n",
    "rows = ds.RasterYSize\n",
    "bands = ds.RasterCount\n",
    "\n",
    "print (\"Anzahl Spalten: %d\" %cols)\n",
    "print (\"Anzahl Zeilen: %d\" %rows)\n",
    "print (\"Anzahl Baender: %d\" %bands)"
   ]
  },
  {
   "cell_type": "code",
   "execution_count": 49,
   "id": "d492878b",
   "metadata": {},
   "outputs": [
    {
     "name": "stdout",
     "output_type": "stream",
     "text": [
      "(592000.0, 5.0, 0.0, 237000.0, 0.0, -5.0)\n"
     ]
    }
   ],
   "source": [
    "gTr = ds.GetGeoTransform()\n",
    "print(gTr)"
   ]
  },
  {
   "cell_type": "code",
   "execution_count": 50,
   "id": "72b3a5ac",
   "metadata": {},
   "outputs": [
    {
     "name": "stdout",
     "output_type": "stream",
     "text": [
      "Origin = ( 592000.0 , 237000.0 )\n",
      "Pixel Size = ( 5.0 , -5.0 )\n",
      "Rotation:  0.0  /  0.0 \n"
     ]
    }
   ],
   "source": [
    "geotransform = ds.GetGeoTransform()\n",
    "if not geotransform is None:\n",
    "    print ('Origin = (',geotransform[0], ',',geotransform[3],')')\n",
    "    print ('Pixel Size = (',geotransform[1], ',',geotransform[5],')')\n",
    "    print ('Rotation: ',geotransform[2], ' / ',geotransform[4],'')\n"
   ]
  },
  {
   "cell_type": "code",
   "execution_count": 52,
   "id": "16e37b3a",
   "metadata": {},
   "outputs": [],
   "source": [
    "from osgeo import gdal\n",
    "import sys\n",
    "\n",
    "def rasterInfo(rD,outFl,printOption=False):\n",
    "    ds = gdal.Open(rD)\n",
    "    if ds is None:\n",
    "        print (\"Datensatz '%s' konnte nicht geöffnet werden!\" %rD)\n",
    "        sys.exit()\n",
    "\n",
    "    cols = ds.RasterXSize\n",
    "    rows = ds.RasterYSize\n",
    "    bands = ds.RasterCount\n",
    "    if printOption:\n",
    "        outTxt = f\"'{rD}' hat {cols} Spalten, {rows} Zeilen \\n und Anzahl Bänder: {bands}.\"\n",
    "        with open(outFl,'a') as outF:\n",
    "            outF.write(outTxt)\n",
    "        print(outTxt)"
   ]
  },
  {
   "cell_type": "markdown",
   "id": "d46914c9",
   "metadata": {},
   "source": [
    "*Iteriere über alle Dateien von einem bestimmten Typ in einem Verzeichnis (inkl Unterverzeichnisse)*:"
   ]
  },
  {
   "cell_type": "code",
   "execution_count": 53,
   "id": "caa1bb93",
   "metadata": {},
   "outputs": [
    {
     "name": "stdout",
     "output_type": "stream",
     "text": [
      "'X:\\_GeoProc2023\\Data\\Elevation_raster.tif' hat 901 Spalten, 901 Zeilen \n",
      "         und Anzahl Bänder: 1.\n",
      "'X:\\_GeoProc2023\\Data\\Ele_slope.tif' hat 901 Spalten, 901 Zeilen \n",
      "         und Anzahl Bänder: 1.\n",
      "'X:\\_GeoProc2023\\Data\\geoworld.tif' hat 2048 Spalten, 1024 Zeilen \n",
      "         und Anzahl Bänder: 3.\n",
      "'X:\\_GeoProc2023\\Data\\ortho14_5m_rgb_solothurn.tif' hat 5800 Spalten, 4800 Zeilen \n",
      "         und Anzahl Bänder: 3.\n"
     ]
    }
   ],
   "source": [
    "for root, dirs, files in os.walk(r'X:\\_GeoProc2023\\Data'):\n",
    "    # select file name\n",
    "    for file in files:\n",
    "        # check the extension of files\n",
    "        if file.endswith('.tif'):\n",
    "            rasterInfo(os.path.join(root, file),True)"
   ]
  },
  {
   "cell_type": "markdown",
   "id": "bcd9196a",
   "metadata": {},
   "source": [
    "*Ausdehnung Raster*"
   ]
  },
  {
   "cell_type": "code",
   "execution_count": 55,
   "id": "0f043ed4",
   "metadata": {},
   "outputs": [
    {
     "name": "stdout",
     "output_type": "stream",
     "text": [
      "Origin = ( 592000.0 , 237000.0 )\n",
      "Pixel Size = ( 5.0 , -5.0 )\n",
      "Rotation:  0.0  /  0.0 \n"
     ]
    }
   ],
   "source": [
    "geotransform = ds.GetGeoTransform()\n",
    "if not geotransform is None:\n",
    "    print ('Origin = (',geotransform[0], ',',geotransform[3],')')\n",
    "    print ('Pixel Size = (',geotransform[1], ',',geotransform[5],')')\n",
    "    print ('Rotation: ',geotransform[2], ' / ',geotransform[4],'')\n"
   ]
  },
  {
   "cell_type": "markdown",
   "id": "c4ac2cd0",
   "metadata": {},
   "source": [
    "*Abfrage von radiometrischen Werten eines Bildes anhand von Koordinaten*"
   ]
  },
  {
   "cell_type": "code",
   "execution_count": 54,
   "id": "70455f86",
   "metadata": {},
   "outputs": [
    {
     "name": "stdout",
     "output_type": "stream",
     "text": [
      "X | Y | xOffset | yOffset | Wert Band 1 | Wert Band 2 | Wert Band 3 \n",
      "594000.0 229500.0 400 1500 17 18 22 \n",
      "604000.0 231000.0 2400 1200 178 162 148 \n",
      "613500.0 222800.0 4300 2840 73 97 82 \n",
      "599594.0 226081.0 1518 2183 89 91 85 \n",
      "\n",
      "The script took 0.027 seconds\n"
     ]
    }
   ],
   "source": [
    "# obtained from http://www.gis.usu.edu/~chrisg/python/2009/lectures/ospy_slides4.pdf and adapted\n",
    "# script to get pixel values at a set of coordinate by reading in one pixel at a time\n",
    "\n",
    "import os, sys, numpy, time\n",
    "from osgeo import gdal\n",
    "from osgeo.gdalconst import *\n",
    "\n",
    "# start timing\n",
    "startTime = time.time()\n",
    "# coordinates to get pixel values for\n",
    "xValues = [594000.0, 604000.0, 613500.0,599594.0]\n",
    "yValues = [229500.0, 231000.0, 222800.0,226081.0]\n",
    "\n",
    "# register all of the drivers\n",
    "gdal.AllRegister()\n",
    "# open the image\n",
    "ds = gdal.Open('Data/ortho14_5m_rgb_solothurn.tif', GA_ReadOnly)\n",
    "if ds is None:\n",
    "    print ('Could not open image')\n",
    "    sys.exit()\n",
    "\n",
    "# get image size\n",
    "rows = ds.RasterYSize\n",
    "cols = ds.RasterXSize\n",
    "bands = ds.RasterCount\n",
    "# get georeference info\n",
    "transform = ds.GetGeoTransform()\n",
    "xOrigin = transform[0]\n",
    "yOrigin = transform[3]\n",
    "pixelWidth = transform[1]\n",
    "pixelHeight = transform[5]\n",
    "print('X | Y | xOffset | yOffset | Wert Band 1 | Wert Band 2 | Wert Band 3 ')\n",
    "\n",
    "# loop through the coordinates\n",
    "#for i in range(3):\n",
    "for i in range(len(xValues)):\n",
    "    # get x,y\n",
    "    x = xValues[i]\n",
    "    y = yValues[i]\n",
    "    # compute pixel offset\n",
    "    xOffset = int((x - xOrigin) / pixelWidth)\n",
    "    yOffset = int((y - yOrigin) / pixelHeight)\n",
    "    # create a string to print out\n",
    "    s = str(x) + ' ' + str(y) + ' ' + str(xOffset) + ' ' + str(yOffset) + ' '\n",
    "    # loop through the bands\n",
    "    for j in range(bands):\n",
    "        band = ds.GetRasterBand(j+1) # 1-based index\n",
    "        #read data and add the value to the string\n",
    "        data = band.ReadAsArray(xOffset, yOffset, 1, 1)\n",
    "        value = data[0,0]\n",
    "        #print(data)\n",
    "        #value2 = numpy.median(data)\n",
    "        s = s + str(value) + ' '\n",
    "\n",
    "    #print out the data string\n",
    "    print(s)\n",
    "# figure out how long the script took to run\n",
    "endTime = time.time()\n",
    "print()\n",
    "print ('The script took %.3f seconds' %(endTime - startTime))"
   ]
  },
  {
   "cell_type": "code",
   "execution_count": null,
   "id": "0ccb1955",
   "metadata": {},
   "outputs": [],
   "source": []
  },
  {
   "cell_type": "code",
   "execution_count": 57,
   "id": "cd04bc64",
   "metadata": {},
   "outputs": [
    {
     "name": "stdout",
     "output_type": "stream",
     "text": [
      "X | Y | xOffset | yOffset | Höhenwert\n",
      "10.1 47.3 360 720 1571 \n",
      "\n",
      "The script took 0.005 seconds\n"
     ]
    }
   ],
   "source": [
    "# obtained from http://www.gis.usu.edu/~chrisg/python/2009/lectures/ospy_slides4.pdf and adapted\n",
    "# script to get pixel values at a set of coordinate by reading in one pixel at a time\n",
    "\n",
    "import os, sys, numpy, time\n",
    "from osgeo import gdal\n",
    "from osgeo.gdalconst import *\n",
    "\n",
    "# start timing\n",
    "startTime = time.time()\n",
    "# coordinates to get pixel values for\n",
    "xValues = [10.1]\n",
    "yValues = [47.3]\n",
    "\n",
    "# register all of the drivers\n",
    "gdal.AllRegister()\n",
    "# open the image\n",
    "ds = gdal.Open('Data/Elevation_raster.tif', GA_ReadOnly)\n",
    "if ds is None:\n",
    "    print ('Could not open image')\n",
    "    sys.exit()\n",
    "\n",
    "# get image size\n",
    "rows = ds.RasterYSize\n",
    "cols = ds.RasterXSize\n",
    "bands = ds.RasterCount\n",
    "# get georeference info\n",
    "transform = ds.GetGeoTransform()\n",
    "xOrigin = transform[0]\n",
    "yOrigin = transform[3]\n",
    "pixelWidth = transform[1]\n",
    "pixelHeight = transform[5]\n",
    "print('X | Y | xOffset | yOffset | Höhenwert')\n",
    "\n",
    "# loop through the coordinates\n",
    "#for i in range(3):\n",
    "for i in range(len(xValues)):\n",
    "    # get x,y\n",
    "    x = xValues[i]\n",
    "    y = yValues[i]\n",
    "    # compute pixel offset\n",
    "    xOffset = int((x - xOrigin) / pixelWidth)\n",
    "    yOffset = int((y - yOrigin) / pixelHeight)\n",
    "    # create a string to print out\n",
    "    s = str(x) + ' ' + str(y) + ' ' + str(xOffset) + ' ' + str(yOffset) + ' '\n",
    "    # loop through the bands\n",
    "    for j in range(bands):\n",
    "        band = ds.GetRasterBand(j+1) # 1-based index\n",
    "        #read data and add the value to the string\n",
    "        data = band.ReadAsArray(xOffset, yOffset, 1, 1)\n",
    "        value = data[0,0]\n",
    "        #print(data)\n",
    "        #value2 = numpy.median(data)\n",
    "        s = s + str(value) + ' '\n",
    "\n",
    "    #print out the data string\n",
    "    print(s)\n",
    "# figure out how long the script took to run\n",
    "endTime = time.time()\n",
    "print()\n",
    "print ('The script took %.3f seconds' %(endTime - startTime))"
   ]
  },
  {
   "cell_type": "code",
   "execution_count": 59,
   "id": "b0784a98",
   "metadata": {},
   "outputs": [
    {
     "name": "stdout",
     "output_type": "stream",
     "text": [
      "Anzahl zuf. Punkte:100\n",
      "Ursprung der Rasterdatei:  9.99986111111111 47.500138888888884\n",
      "\n",
      "X | Y | xOffset | yOffset | Altitude  | Aspect  | Slope |\n",
      "10.051171395140079 47.34141061119083 184 571 1542 84.716576 174.02844 \n",
      "10.061898621575542 47.482500682652855 223 63 1220 55.759758 229.96974 \n",
      "10.204270252948648 47.33261921729409 735 603 1947 68.33675 204.27444 \n",
      "10.106075456331256 47.28405589061452 382 777 1691 82.56022 23.552261 \n",
      "10.110439282615712 47.41042498808234 398 322 1410 69.42876 184.844 \n",
      "10.197860947344802 47.257292915584465 712 874 1420 75.104965 11.040939 \n",
      "10.05924197167107 47.40902741179211 213 328 1076 74.55152 21.139824 \n",
      "10.056822775587321 47.34393656011366 205 562 1517 83.11055 304.81335 \n",
      "10.232605851986325 47.345336179861455 837 557 1585 77.4383 153.17802 \n",
      "10.093140526605588 47.47839089462378 335 78 1526 84.731155 341.11392 \n",
      "10.02095141847199 47.450857694301476 75 177 1062 79.67815 179.0608 \n",
      "10.159713479769685 47.278483573245346 575 797 1994 76.51231 302.66092 \n",
      "10.021164472628032 47.41872581866398 76 293 1015 74.3497 33.690067 \n",
      "10.230619272501864 47.46824150854041 830 114 939 48.06728 75.96376 \n",
      "10.16862308408152 47.427590858504836 607 261 1391 81.62061 321.4588 \n",
      "10.211168488433355 47.43006784156376 760 252 1408 78.64442 186.22583 \n",
      "10.171952143812241 47.330544845269 619 610 1231 43.2172 286.69925 \n",
      "10.227619799022202 47.417039595477654 819 299 1253 77.10906 122.38068 \n",
      "10.022815969113273 47.43046886956836 82 250 882 75.85743 240.8192 \n",
      "10.061396484815061 47.31283808952199 221 674 1372 81.346405 0.7848282 \n",
      "10.102239592237707 47.414214102852696 368 309 1347 80.43307 9.605202 \n",
      "10.127151021956477 47.32677425922098 458 624 1994 78.53723 205.3959 \n",
      "10.181994184538345 47.39382606604728 655 382 1336 76.593315 215.3948 \n",
      "10.115076646074519 47.348838632481524 414 544 2026 86.326355 40.54743 \n",
      "10.083905810342335 47.34178862682599 302 570 1850 32.60177 50.710594 \n",
      "10.04028282775398 47.38306921052516 145 421 1051 70.36582 132.39743 \n",
      "10.102966143825284 47.42917498903561 371 255 1504 78.23584 349.74316 \n",
      "10.18325567276657 47.30422501684605 660 705 2146 84.62509 45.686146 \n",
      "10.109774508572608 47.47500029179337 395 90 1578 69.926186 225.0 \n",
      "10.015697852161598 47.32484639662812 57 631 1237 82.429054 170.7067 \n",
      "10.180362819302397 47.372272546305624 649 460 1304 78.68307 181.54816 \n",
      "10.116109667808228 47.48681113955185 418 47 1558 75.21786 355.91437 \n",
      "10.236414619440437 47.29835224695682 851 726 1264 86.56081 202.75098 \n",
      "10.187833890900459 47.31790910052213 676 656 1522 82.038925 204.14554 \n",
      "10.21379731372211 47.373149914275125 770 457 1202 70.838844 350.09583 \n",
      "10.241592122905248 47.38685231278015 870 407 1299 68.96171 336.541 \n",
      "10.04867305567035 47.28634675598341 175 769 1055 81.44078 188.56915 \n",
      "10.079665806785838 47.44400420648365 287 202 1430 72.750206 74.604454 \n",
      "10.189592014786175 47.398843796861605 683 364 1489 73.497025 47.16108 \n",
      "10.148902139712307 47.41816759333575 536 295 1457 75.332115 43.090847 \n",
      "10.17203842772236 47.45235511602768 619 172 1568 78.77841 69.623566 \n",
      "10.225824782317881 47.42357865427687 813 275 1290 80.514656 170.04193 \n",
      "10.123381000956005 47.46608955442753 444 122 1270 80.02667 283.26648 \n",
      "10.022869366234605 47.36852434593625 82 473 1229 54.630474 333.43494 \n",
      "10.158488902749198 47.28859679939879 571 761 1689 82.942406 28.992596 \n",
      "10.040595864590061 47.28424092739 146 777 1287 80.930016 24.171448 \n",
      "10.126956965300305 47.260012368001085 457 864 1810 83.93948 315.0 \n",
      "10.002771256470355 47.360438841460685 10 502 1762 85.09759 57.291348 \n",
      "10.197218481740759 47.49450711938038 710 20 1144 77.47362 358.85425 \n",
      "10.067005785609933 47.43150067569361 241 247 1425 80.658714 357.8789 \n",
      "10.006903670502933 47.29598424968056 25 734 1666 66.30513 80.90972 \n",
      "10.166410557129467 47.292324992791755 599 748 1784 82.42155 199.9538 \n",
      "10.086552052857733 47.4790103084411 312 76 1313 60.714622 190.1755 \n",
      "10.180539960977525 47.25456996511498 650 884 1553 79.74266 142.94347 \n",
      "10.20702266100711 47.28974100901939 745 757 1605 83.029045 155.9735 \n",
      "10.173919782334252 47.29242775991808 626 747 2080 81.5073 138.81407 \n",
      "10.178491749084118 47.30872559882169 643 689 1958 72.887924 312.75427 \n",
      "10.131157519649141 47.34651061325876 472 553 1485 72.55692 136.14577 \n",
      "10.209356663931741 47.280090581541536 754 792 1763 82.33303 342.0041 \n",
      "10.10165701275372 47.427846877958245 366 260 1521 70.82145 197.30054 \n",
      "10.027070513407207 47.34902528335535 97 544 1811 67.64554 267.8789 \n",
      "10.167001569924366 47.33124937218474 601 608 1157 40.87921 81.027374 \n",
      "10.227930882782392 47.25549373850505 821 880 -32767 -9999.0 -9999.0 \n",
      "10.149255553946189 47.43644409399461 537 229 1259 73.485916 193.1092 \n",
      "10.217857236531069 47.25909435069662 784 867 -32767 -9999.0 -9999.0 \n",
      "10.008301639411847 47.41894929795649 30 292 1059 70.36582 354.47247 \n",
      "10.00534781942384 47.25634758607274 19 877 1547 76.26496 29.666714 \n",
      "10.189255401664383 47.30389806963859 681 706 1922 80.80264 43.22853 \n",
      "10.02727904558605 47.4561603145009 98 158 1292 79.943016 188.25943 \n",
      "10.014778509856148 47.47663586373885 53 84 1257 68.6621 190.12466 \n",
      "10.057418347472426 47.32889540510732 207 616 1814 69.687225 240.01836 \n",
      "10.105111375730523 47.489529593949996 378 38 1407 74.48742 152.47478 \n",
      "10.169966507612124 47.337593331116516 612 585 1132 57.910797 163.61046 \n",
      "10.078675433113641 47.4835010343674 283 59 1369 83.69535 160.84439 \n",
      "10.172014947493826 47.426648335228904 619 264 1561 77.334305 298.37924 \n",
      "10.238279445751624 47.47220705672009 858 100 894 42.339172 147.09476 \n",
      "10.22344846823263 47.29471636194948 804 739 1261 53.440655 334.29004 \n",
      "10.006229657567404 47.35490397178713 22 522 1538 75.7157 71.98023 \n",
      "10.170007634382074 47.35989897354042 612 504 1196 68.65009 129.2894 \n",
      "10.229124589486737 47.45586427043789 825 159 959 61.37641 114.676865 \n",
      "10.045877519591414 47.377088017245626 165 442 1066 49.268467 54.462322 \n",
      "10.01741611277159 47.31574221730015 63 663 947 71.177124 200.6589 \n",
      "10.099149726031762 47.31299756677722 357 673 1437 81.70533 17.959473 \n",
      "10.196337785838882 47.47438085951838 707 92 1438 76.621475 275.52753 \n",
      "10.008414077564897 47.42141262064817 30 283 1035 54.006992 11.309929 \n",
      "10.036736070868928 47.301094503019506 132 716 1001 87.19 68.7626 \n",
      "10.224300724206566 47.27961162930602 807 793 1825 68.23556 342.21613 \n",
      "10.03236572857042 47.499606329150964 117 1 1109 45.739655 307.875 \n",
      "10.211633668683314 47.38061188101568 762 430 1010 79.62964 71.26664 \n",
      "10.080037292589266 47.36602186072281 288 482 1683 74.14221 237.52881 \n",
      "10.118639939349345 47.2600226014961 427 864 1816 70.60892 60.59281 \n",
      "10.240386990824913 47.49924063361778 865 3 924 27.161404 74.74488 \n",
      "10.076424407121346 47.453527866459076 275 167 1062 73.353714 336.19406 \n",
      "10.058772589977726 47.31154245367808 212 678 1380 86.715256 349.73486 \n",
      "10.099137681421537 47.25338767338289 357 888 1613 80.27417 5.7545624 \n",
      "10.237089121366074 47.443754320378396 854 202 904 40.87921 62.10273 \n",
      "10.056054870164916 47.468457998469056 202 114 1365 82.23065 335.32312 \n",
      "10.137701649957464 47.41620180784304 496 302 1564 59.81848 42.878902 \n",
      "10.097095752158648 47.31643399262712 350 661 1546 81.228096 180.79572 \n",
      "10.12308722386549 47.43648695004736 443 229 1332 77.172035 134.16968 \n",
      "The script took 0.5517997741699219 seconds\n"
     ]
    }
   ],
   "source": [
    "#obtained from http://www.gis.usu.edu/~chrisg/python/2009/lectures/ospy_slides4.pdf and adapted\n",
    "\n",
    "# script to get pixel values at a set of coordinate\n",
    "# by reading in one pixel at a time\n",
    "# modified to read altitude, aspect and sloap from the band\n",
    "\n",
    "import os, sys, numpy, time\n",
    "from osgeo import gdal\n",
    "from osgeo.gdalconst import *\n",
    "import random\n",
    "\n",
    "random.seed()\n",
    "\n",
    "'''\n",
    "Infos zur Rasterdatei:\n",
    "Lower Left  (   9.9998611,  47.2498611) (  9d59'59.50\"E, 47d14'59.50\"N)\n",
    "Upper Right (  10.2501389,  47.5001389) ( 10d15' 0.50\"E, 47d30' 0.50\"N)\n",
    "Pixel Size = (0.000277777777778,-0.000277777777778)\n",
    "Size is 901, 901\n",
    "'''\n",
    "xValues = []\n",
    "yValues = []\n",
    "pntnumber = input(\"Anzahl zuf. Punkte:\")\n",
    "for i in range(1, int(pntnumber)+1):\n",
    "    #Erzeuge zufällige Koordinatenwerte\n",
    "    rechts = random.random() * 0.000277777777778 * 901 + 9.9998611\n",
    "    hoch = random.random() * 0.000277777777778 * 901 + 47.2498611\n",
    "\n",
    "    # coordinates to get pixel values for\n",
    "    xValues.append(rechts)\n",
    "    yValues.append(hoch)\n",
    "\n",
    "    #print(\"%i. Punkt: x= %f | y= %f\" %(i,rechts, hoch))\n",
    "\n",
    "# start timing\n",
    "startTime = time.time()\n",
    "\n",
    "# register all of the drivers\n",
    "gdal.AllRegister()\n",
    "\n",
    "imagefilename = \"Data/Elevation_raster.tif\"\n",
    "path = \"Data/\"\n",
    "\n",
    "# open the image\n",
    "ds = gdal.Open(imagefilename) #The band is altitude values\n",
    "\n",
    "if ds is None:\n",
    "    print ('Could not open image')\n",
    "    sys.exit(1)\n",
    "\n",
    "# Translate to slope and aspect /          #gdaldem hillshade input_dem output_hillshade\n",
    "\n",
    "# File to store results and open in QGIS\n",
    "rndpntfl = open(\"_randompointfilewithDEMinfo.csv\",\"w\")\n",
    "\n",
    "sloapcommand = 'gdaldem slope %s %sEle_slope.tif -s 10000' %(imagefilename,path)\n",
    "#print (\"command to run: %s\" %sloapcommand)   #gdaldem slope input_dem output_slope_map\n",
    "\n",
    "os.system(sloapcommand)\n",
    "\n",
    "aspectcommand = 'gdaldem aspect %s %sEle_aspect.tif' %(imagefilename,path)\n",
    "#print (\"command to run: %s\" %aspectcommand)  #gdaldem aspect input_dem output_aspect_map\n",
    "\n",
    "os.system(aspectcommand)\n",
    "\n",
    "da= gdal.Open(path + 'Ele_slope.tif')\n",
    "dl= gdal.Open(path + 'Ele_aspect.tif')\n",
    "\n",
    "# get image size\n",
    "rows = ds.RasterYSize\n",
    "cols = ds.RasterXSize\n",
    "bands = ds.RasterCount\n",
    "\n",
    "bandsaspect = da.RasterCount\n",
    "bandsslope = dl.RasterCount\n",
    "\n",
    "# get georeference info\n",
    "transform = ds.GetGeoTransform()\n",
    "xOrigin = transform[0]\n",
    "yOrigin = transform[3]\n",
    "pixelWidth = transform[1]\n",
    "pixelHeight = transform[5]\n",
    "\n",
    "\n",
    "print ('Ursprung der Rasterdatei: ', xOrigin , yOrigin)\n",
    "print(\"\")\n",
    "print ('X | Y | xOffset | yOffset | Altitude  | Aspect  | Slope |' )\n",
    "rndpntfl.write('X, Y, xOffset, yOffset, Altitude, Aspect, Slope \\n')\n",
    "\n",
    "# loop through the coordinates\n",
    "for k in range(len(xValues)):\n",
    "    x = xValues[k]\n",
    "    y = yValues[k]\n",
    "\n",
    "# compute pixel offset\n",
    "    xOffset = int((x - xOrigin) / pixelWidth)\n",
    "    yOffset = int((y - yOrigin) / pixelHeight)\n",
    "\n",
    "# create a string to print out\n",
    "    s = str(x) + ' ' + str(y) + ' ' + str(xOffset) + ' ' + str(yOffset) + ' '\n",
    "\n",
    "# loop through the bands\n",
    "\n",
    "    for j in range(bands):\n",
    "        band = ds.GetRasterBand(j+1) # 1-based index\n",
    "        # read data and add the value to the string\n",
    "        data = band.ReadAsArray(xOffset, yOffset, 1, 1)\n",
    "        value = data[0,0]\n",
    "        s = s + str(value) + ' '\n",
    "\n",
    "    #get aspect value\n",
    "    for f in range(bandsaspect):\n",
    "        band_da = da.GetRasterBand(f+1) # 1-based index\n",
    "        # read data and add the value to the string\n",
    "        data_da = band_da.ReadAsArray(xOffset, yOffset, 1, 1)\n",
    "        value_da = data_da[0,0]\n",
    "        s = s + str(value_da) + ' '\n",
    "\n",
    "    #get slope value\n",
    "    for e in range(bandsslope):\n",
    "        band_dl = dl.GetRasterBand(e+1) # 1-based index\n",
    "\n",
    "        # read data and add the value to the string\n",
    "        data_dl = band_dl.ReadAsArray(xOffset, yOffset, 1, 1)\n",
    "        value_dl = data_dl[0,0]\n",
    "\n",
    "        s = s + str(value_dl) + ' \\n'\n",
    "\n",
    "    #print out the data string\n",
    "    s2=s.replace(\"\\n\",\"\")\n",
    "    print (s2)\n",
    "    rndpntfl.write(s.replace(\" \",\", \"))\n",
    "    #print (\"\")\n",
    "\n",
    "\n",
    "# figure out how long the script took to run\n",
    "endTime = time.time()\n",
    "print ('The script took ' + str(endTime - startTime) + ' seconds')\n",
    "rndpntfl.close()\n"
   ]
  }
 ],
 "metadata": {
  "kernelspec": {
   "display_name": "Python 3 (ipykernel)",
   "language": "python",
   "name": "python3"
  },
  "language_info": {
   "codemirror_mode": {
    "name": "ipython",
    "version": 3
   },
   "file_extension": ".py",
   "mimetype": "text/x-python",
   "name": "python",
   "nbconvert_exporter": "python",
   "pygments_lexer": "ipython3",
   "version": "3.9.7"
  }
 },
 "nbformat": 4,
 "nbformat_minor": 5
}
