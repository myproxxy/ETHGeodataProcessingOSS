{
 "cells": [
  {
   "cell_type": "markdown",
   "id": "d76c6d2c",
   "metadata": {},
   "source": [
    "# Package Installation for Geodata Processing 2025\n"
   ]
  },
  {
   "cell_type": "markdown",
   "id": "7d870777-29ec-4cdc-92fa-8ebf9ada1ca7",
   "metadata": {},
   "source": [
    "Installiere zuerst über ein Terminal:\n",
    "<pre><code>\n",
    "conda create --name gpETHZ2025 python=3.12\n",
    "conda activate gpETHZ2025\n",
    "conda install -c conda-forge notebook\n",
    "conda install -c conda-forge gdal\n",
    "</code></pre>"
   ]
  },
  {
   "cell_type": "code",
   "execution_count": null,
   "id": "c67d0768",
   "metadata": {},
   "outputs": [],
   "source": [
    "import warnings\n",
    "warnings.filterwarnings('ignore')"
   ]
  },
  {
   "cell_type": "code",
   "execution_count": null,
   "id": "242db5a6-80e8-4dba-a1b4-3dd61e7bd974",
   "metadata": {},
   "outputs": [],
   "source": [
    "import sys,os\n",
    "\n",
    "!pip install gdal\n",
    "!pip install psycopg2-binary\n",
    "!pip install shapely\n",
    "!pip install fiona\n",
    "!pip install rasterio\n",
    "!pip install geopandas\n",
    "!pip install folium\n",
    "!pip install ipython-notebook\n",
    "!pip install leafmap\n"
   ]
  },
  {
   "cell_type": "markdown",
   "id": "f1a12e4e",
   "metadata": {},
   "source": [
    "If the following commands may not be installed via Jupyter Notebook. Try it and if it fails, run the following commands in a command shell:"
   ]
  },
  {
   "cell_type": "code",
   "execution_count": null,
   "id": "15d98aa4",
   "metadata": {},
   "outputs": [],
   "source": [
    "import os\n",
    "# if there is a problem with ipyleaflet run these two commands\n",
    "# if they fail in jupyter run them on the command-line-interface\n",
    "'''\n",
    "os.system('conda install -c conda-forge ipyleaflet')\n",
    "os.system('conda install -c conda-forge ipython-notebook')\n",
    "'''"
   ]
  },
  {
   "cell_type": "markdown",
   "id": "1cf0a792",
   "metadata": {},
   "source": [
    "# Test the Installation"
   ]
  },
  {
   "cell_type": "code",
   "execution_count": null,
   "id": "4eb8d6f3",
   "metadata": {},
   "outputs": [],
   "source": [
    "import importlib\n",
    "def importPackages(modules):\n",
    "    for library in modules:\n",
    "        try:\n",
    "            if library == 'gdal':\n",
    "                exec(\"from osgeo import gdal\")\n",
    "                print(\"Package {} successfully imported!\".format(library))\n",
    "            else:\n",
    "                exec(\"from {module} import *\".format(module=library))\n",
    "            print(\"Package {} successfully imported!\".format(library))\n",
    "        except Exception as e:\n",
    "            print(\"\\n\\n E R R O R !!! With Package {}\".format(library))\n",
    "            print(e)\n",
    "    #print(dir()) # Exactly working as thought\n",
    "pckList = []\n",
    "pckList.append('gdal')\n",
    "pckList.append('psycopg2')\n",
    "pckList.append('shapely')\n",
    "pckList.append('fiona')\n",
    "pckList.append('rasterio')\n",
    "pckList.append('geopandas')\n",
    "pckList.append('folium')\n",
    "pckList.append('json')\n",
    "pckList.append('os')\n",
    "pckList.append('sys')\n",
    "pckList.append('leafmap')\n",
    "\n",
    "importPackages(pckList)"
   ]
  },
  {
   "cell_type": "markdown",
   "id": "3ff1334d",
   "metadata": {},
   "source": [
    "## Test Database connection to PostgreSQL/PostGIS"
   ]
  },
  {
   "cell_type": "code",
   "execution_count": null,
   "id": "caab38cd",
   "metadata": {},
   "outputs": [],
   "source": [
    "import psycopg2\n",
    "def postgres_test(dbn,h,u,pwd,p):\n",
    "    try:\n",
    "        conn = psycopg2.connect(\"dbname={} host={} user={} password={} port={}\".format(dbn,h,u,pwd,p))\n",
    "        conn.close()\n",
    "        return True\n",
    "    except:\n",
    "        return False\n",
    "\n",
    "database = \"casdb2023\"\n",
    "host = \"ikgpgis.ethz.ch\"\n",
    "usr = \"casuser\"\n",
    "pwd = \"mrPope-2323-IKG\"\n",
    "port = \"5432\"\n",
    "print(postgres_test(database,host,usr,pwd,port))\n"
   ]
  },
  {
   "cell_type": "markdown",
   "id": "46d70209",
   "metadata": {},
   "source": [
    "## Test Reading Data"
   ]
  },
  {
   "cell_type": "markdown",
   "id": "354391b8",
   "metadata": {},
   "source": [
    "Copy from one format (Esri Shape) to another (MapInfo) using commandline tool ```ogr2ogr```"
   ]
  },
  {
   "cell_type": "code",
   "execution_count": null,
   "id": "f714b475",
   "metadata": {},
   "outputs": [],
   "source": [
    "import os\n",
    "os.system('ogr2ogr -f \"MapInfo File\" ../Data/Gemeinden_Solothurn.tab ../Data/Gemeinden_Solothurn.shp')\n",
    "os.system('ogr2ogr -f \"GeoJSON\"  -t_srs \"EPSG:4326\" ../Data/Gemeinden_SolothurnWGS84.json ../Data/Gemeinden_Solothurn.shp')\n"
   ]
  },
  {
   "cell_type": "markdown",
   "id": "87130a1c",
   "metadata": {},
   "source": [
    "Read some data..\n",
    "\n",
    "You should see something like:\n",
    "```\n",
    "<osgeo.ogr.DataSource; proxy of <Swig Object of type 'OGRDataSourceShadow *' at 0x7fab289df960> >\n",
    "Gemeinden_Solothurn\n",
    "109\n",
    "Der Datensatz 'Gemeinden_Solothurn' hat 109 Gemeinden\n",
    "```"
   ]
  },
  {
   "cell_type": "code",
   "execution_count": null,
   "id": "b3b78c89",
   "metadata": {},
   "outputs": [],
   "source": [
    "from osgeo import ogr\n",
    "drv = ogr.GetDriverByName(\"ESRI Shapefile\")\n",
    "path2ds = \"../Data/Gemeinden_Solothurn.shp\"\n",
    "datasource = drv.Open(path2ds)\n",
    "print(datasource)\n",
    "\n",
    "mylayer = datasource.GetLayer(0)\n",
    "print(mylayer.GetName())\n",
    "\n",
    "ftrcnt = mylayer.GetFeatureCount()\n",
    "print(ftrcnt)\n",
    "\n",
    "print(\"Der Datensatz '%s' hat %i Gemeinden\" %(mylayer.GetName(),int(ftrcnt)))"
   ]
  },
  {
   "cell_type": "markdown",
   "id": "b2a40d48",
   "metadata": {},
   "source": [
    "## Umprojektion\n",
    "\n",
    "You should see something like:\n",
    "```\n",
    "Ausgangskoordinaten: POINT (1120351.57 741921.42)\n",
    "Transformierte Koordinaten: POINT (47.3488013802885 -122.598135130878)\n",
    "```"
   ]
  },
  {
   "cell_type": "code",
   "execution_count": null,
   "id": "e1c1d3e2",
   "metadata": {},
   "outputs": [],
   "source": [
    "from osgeo import ogr \n",
    "from osgeo import osr  \n",
    "source = osr.SpatialReference() \n",
    "source.ImportFromEPSG(2927)  \n",
    "\n",
    "target = osr.SpatialReference() \n",
    "target.ImportFromEPSG(4326)  \n",
    "\n",
    "transform = osr.CoordinateTransformation(source, target)  \n",
    "\n",
    "origpnt = \"POINT (1120351.57 741921.42)\"\n",
    "transfpoint = ogr.CreateGeometryFromWkt(origpnt) \n",
    "transfpoint.Transform(transform) \n",
    "print(\"Ausgangskoordinaten: %s\" %origpnt)\n",
    "print(\"Transformierte Koordinaten: %s\" %transfpoint.ExportToWkt())\n"
   ]
  },
  {
   "cell_type": "markdown",
   "id": "38f81042",
   "metadata": {},
   "source": [
    "## Rasterdaten\n",
    "\n",
    "\n",
    "You should see something like:\n",
    "```\n",
    "Anzahl Spalten: 5800\n",
    "Anzahl Zeilen: 4800\n",
    "Anzahl Baender: 3\n",
    "```"
   ]
  },
  {
   "cell_type": "code",
   "execution_count": null,
   "id": "837689c5",
   "metadata": {},
   "outputs": [],
   "source": [
    "from osgeo import gdal\n",
    "\n",
    "fn = '../Data/ortho14_5m_rgb_solothurn.tif'\n",
    "ds = gdal.Open(fn)\n",
    "if ds is None:\n",
    "    print ('Datensatz %s konnte nicht geöffnet werden!' %fn)\n",
    "    sys.exit()\n",
    "\n",
    "#Dimension des Rasterbildes\n",
    "cols = ds.RasterXSize\n",
    "rows = ds.RasterYSize\n",
    "bands = ds.RasterCount\n",
    "\n",
    "print (\"Anzahl Spalten: %d\" %cols)\n",
    "print (\"Anzahl Zeilen: %d\" %rows)\n",
    "print (\"Anzahl Baender: %d\" %bands)"
   ]
  },
  {
   "cell_type": "markdown",
   "id": "a87070d4",
   "metadata": {},
   "source": [
    "## Commandline commands\n",
    "\n",
    "\n",
    "You should see something like:\n",
    "```\n",
    "command to run: gdaldem slope ../Data/Elevation_raster.tif ../Data/Ele_slope.tif -s 10000\n",
    "0...10...20...30...40...50...60...70...80...90...100 - done.\n",
    "```"
   ]
  },
  {
   "cell_type": "code",
   "execution_count": null,
   "id": "83ae956d",
   "metadata": {},
   "outputs": [],
   "source": [
    "imagefilename = \"../Data/Elevation_raster.tif\"\n",
    "path = \"../Data/\"\n",
    "\n",
    "sloapcommand = 'gdaldem slope %s %sEle_slope.tif -s 10000' %(imagefilename,path)\n",
    "print (\"command to run: %s\" %sloapcommand)   #gdaldem slope input_dem output_slope_map\n",
    "\n",
    "os.system(sloapcommand)"
   ]
  },
  {
   "cell_type": "markdown",
   "id": "ee2b91e5",
   "metadata": {},
   "source": [
    "## Geowebservices\n",
    "\n",
    "You should see something like:\n",
    "```\n",
    "Successfully downloaded resource http://wms.geo.admin.ch/?SERVICE=WMS&REQUEST=GetMap&VERSION=1.3.0&LAYERS=ch.bfs.arealstatistik-1985-04&STYLES=default&CRS=EPSG:21781&BBOX=550000,60000,660000,140000&WIDTH=800&HEIGHT=582&FORMAT=image/png\n",
    "```"
   ]
  },
  {
   "cell_type": "code",
   "execution_count": null,
   "id": "4ee440fb",
   "metadata": {},
   "outputs": [],
   "source": [
    "# -*- coding: utf-8 -*-\n",
    "import os, shutil, sys\n",
    "import urllib.request\n",
    "from osgeo import gdal\n",
    "from osgeo.gdalconst import *\n",
    "\n",
    "def download(url, dest, fileName=None):\n",
    "    try:\n",
    "        r= urllib.request.urlopen(url)\n",
    "        fileName = os.path.join(dest, fileName)\n",
    "        with open(fileName, 'wb') as f:\n",
    "            shutil.copyfileobj(r,f)\n",
    "        r.close()\n",
    "        print(\"Successfully downloaded resource {}\".format(url))\n",
    "    except:\n",
    "        print(\"ERROR Downloading resource {}\".format(url))\n",
    "\n",
    "path2save2 = \"Data/\" #Zielpfad\n",
    "wmsfile = \"wms.gif\"\n",
    "wmslink = \"https://wms.geo.admin.ch/?SERVICE=WMS&REQUEST=GetMap&VERSION=1.3.0&LAYERS=ch.bafu.bundesinventare-bln&STYLES=default&CRS=EPSG:2056&BBOX=2550000,1060000,2660000,1140000&WIDTH=800&HEIGHT=582&FORMAT=image/png\"\n",
    "download(wmslink,path2save2,wmsfile)\n",
    "    "
   ]
  },
  {
   "cell_type": "markdown",
   "id": "83d1b015",
   "metadata": {},
   "source": [
    "## Shapely\n",
    "\n",
    "You should see something like:\n",
    "```\n",
    "Gemeinde Rohr hat folgenden Zentroid: (638811.067724, 251323.787658) und folgende Flaeche 2229578.988870m2\n",
    "```"
   ]
  },
  {
   "cell_type": "code",
   "execution_count": null,
   "id": "6722614b",
   "metadata": {},
   "outputs": [],
   "source": [
    "from osgeo import ogr\n",
    "import shapely.wkt\n",
    "\n",
    "shapefile = ogr.Open(\"../Data/Gemeinden_Solothurn.shp\")\n",
    "if shapefile is None:\n",
    "    print (\"Datensatz konnte nicht geoeffnet werden.\\n\")\n",
    "    sys.exit()\n",
    "\n",
    "layer = shapefile.GetLayer(0)\n",
    "\n",
    "#Gemeindegeometry extrahieren:\n",
    "geometry = None\n",
    "cnt = 0\n",
    "for feature in layer:\n",
    "    while cnt < 1:\n",
    "        #Extract Gemeinde-Name\n",
    "        gemname = feature.GetField(\"gmde_name\")\n",
    "        #Get Geometry (Polygon)\n",
    "        gemgeometry = feature.GetGeometryRef()\n",
    "        #\"Convert\" Geometry to shapely-geometry\n",
    "        gemgeomaswkt = gemgeometry.ExportToWkt()\n",
    "        shapelypolygon = shapely.wkt.loads(gemgeomaswkt)\n",
    "        #Extract Centroid\n",
    "        centroid_point = shapelypolygon.centroid\n",
    "        x=centroid_point.x\n",
    "        y=centroid_point.y\n",
    "        area = shapelypolygon.area\n",
    "        #Printout Information\n",
    "        print (\"Gemeinde %s hat folgenden Zentroid: (%f, %f) und folgende Flaeche %fm2\" %(gemname, x, y, area))\n",
    "        cnt += 1"
   ]
  },
  {
   "cell_type": "markdown",
   "id": "749413f4",
   "metadata": {},
   "source": [
    "## Fiona\n",
    "\n",
    "You should see something like:\n",
    "```\n",
    "Anzahl Datensätze: 109 \n",
    "Format: ESRI Shapefile\n",
    "Geo-Referenzsystem: {'proj': 'somerc', 'lat_0': 46.9524055555556, 'lon_0': 7.43958333333333, 'k_0': 1, 'x_0': 600000, 'y_0': 200000, 'ellps': 'bessel', 'units': 'm', 'no_defs': True}\n",
    "Ausdehnung: (592560.389, 213702.99, 644759.038, 261329.631)\n",
    "```"
   ]
  },
  {
   "cell_type": "code",
   "execution_count": null,
   "id": "9ec5a1f8",
   "metadata": {},
   "outputs": [],
   "source": [
    "import fiona\n",
    "\n",
    "c = fiona.open('../Data/Gemeinden_Solothurn.shp', 'r')\n",
    "print(\"Anzahl Datensätze: %i \" %len(list(c)))\n",
    "print(\"Format: %s\" %c.driver)\n",
    "print(\"Geo-Referenzsystem: %s\" %c.crs)\n",
    "print(\"Ausdehnung: %s\" %str(c.bounds))\n",
    "\n"
   ]
  },
  {
   "cell_type": "markdown",
   "id": "42daac3c",
   "metadata": {},
   "source": [
    "## Folium\n",
    "\n",
    "An interactive map located at EHT ZH Hönggerberg with a pin should appear."
   ]
  },
  {
   "cell_type": "code",
   "execution_count": null,
   "id": "3e937c78",
   "metadata": {},
   "outputs": [],
   "source": [
    "import folium, json\n",
    "m = folium.Map(location=[47.40875, 8.50778], zoom_start=17)\n",
    "\n",
    "folium.Marker(\n",
    "    location=[47.40875, 8.50778],\n",
    "    popup=\"ETH\",\n",
    "    icon=folium.Icon(color=\"red\", icon=\"info-sign\"),\n",
    ").add_to(m)\n",
    "\n",
    "\n",
    "rfile = open('../Data/Gemeinden_SolothurnWGS84.json', 'r', encoding='utf-8').read() \n",
    "jsonData = json.loads(rfile)        \n",
    "style_function = {\n",
    "                 'fillColor': 'white',\n",
    "                }\n",
    "folium.GeoJson(jsonData, name='json_data'#,\n",
    "               #style_function=lambda x: style_function\n",
    "              ).add_to(m)\n",
    "\n",
    "\n",
    "m"
   ]
  },
  {
   "cell_type": "code",
   "execution_count": null,
   "id": "0034662d",
   "metadata": {},
   "outputs": [],
   "source": [
    "import folium\n",
    "m = folium.Map(location=[47.27075, 7.70023], zoom_start=10)\n",
    "\n",
    "# Reading Polygondata - municipalities\n",
    "rfile = open('../Data/Gemeinden_SolothurnWGS84.json', 'r', encoding='utf-8').read()        \n",
    "jsonData = json.loads(rfile)        # Reading as dictionary\n",
    "style_function = {\n",
    "                 'fillColor': 'white',\n",
    "                }\n",
    "folium.GeoJson(jsonData, name='json_data',\n",
    "               style_function=lambda x: style_function        # style_function has to be a function which calls dictionary\n",
    "              ).add_to(m)        # Overlay on map\n",
    "\n",
    "\n",
    "m.save('../Data/gemSoFolium.html')\n",
    "m\n"
   ]
  },
  {
   "cell_type": "markdown",
   "id": "b599cfa2",
   "metadata": {},
   "source": [
    "#### Test Leafmap"
   ]
  },
  {
   "cell_type": "code",
   "execution_count": null,
   "id": "c23c7ba8",
   "metadata": {},
   "outputs": [],
   "source": [
    "import leafmap.foliumap as leafmap\n",
    "m = leafmap.Map(center=(47.5, 7.65), zoom=12)\n",
    "m.add_basemap(\"OpenTopoMap\")\n",
    "\n",
    "'''\n",
    "naip_url = \"https://www.mrlc.gov/geoserver/mrlc_display/NLCD_2019_Land_Cover_L48/wms?\"\n",
    "m.add_wms_layer(\n",
    "    url=naip_url,\n",
    "    layers=\"NLCD_2019_Land_Cover_L48\",\n",
    "    name=\"NLCD 2019\",\n",
    "    attribution=\"MRLC\",\n",
    "    format=\"image/png\",\n",
    "    shown=True,\n",
    ")\n",
    "'''\n",
    "pk25 = \"https://wms.geo.admin.ch/?\"\n",
    "m.add_wms_layer(\n",
    "    url=pk25,\n",
    "    layers=\"ch.swisstopo.pixelkarte-farbe-pk25.noscale\",\n",
    "    name=\"PK25\",\n",
    "    #attribution=\"MRLC\",\n",
    "    format=\"image/png\",\n",
    "    shown=True,\n",
    ")\n",
    "\n",
    "#m.add_legend(title=\"Pixelkarte 1:25'000\")\n",
    "m"
   ]
  },
  {
   "cell_type": "code",
   "execution_count": null,
   "id": "10006b1d",
   "metadata": {},
   "outputs": [],
   "source": []
  },
  {
   "cell_type": "code",
   "execution_count": null,
   "id": "485e56f4-d81e-4b60-b63a-2e60b8ca65d0",
   "metadata": {},
   "outputs": [],
   "source": []
  }
 ],
 "metadata": {
  "kernelspec": {
   "display_name": "Python 3 (ipykernel)",
   "language": "python",
   "name": "python3"
  },
  "language_info": {
   "codemirror_mode": {
    "name": "ipython",
    "version": 3
   },
   "file_extension": ".py",
   "mimetype": "text/x-python",
   "name": "python",
   "nbconvert_exporter": "python",
   "pygments_lexer": "ipython3",
   "version": "3.12.7"
  }
 },
 "nbformat": 4,
 "nbformat_minor": 5
}
