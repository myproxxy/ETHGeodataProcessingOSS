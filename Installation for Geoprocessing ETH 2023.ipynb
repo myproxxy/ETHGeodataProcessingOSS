{
 "cells": [
  {
   "cell_type": "markdown",
   "id": "c4cd8024",
   "metadata": {},
   "source": [
    "# Package Installation for Geodata Processing"
   ]
  },
  {
   "cell_type": "code",
   "execution_count": null,
   "id": "9ca45014",
   "metadata": {},
   "outputs": [],
   "source": [
    "import warnings\n",
    "warnings.filterwarnings('ignore')"
   ]
  },
  {
   "cell_type": "markdown",
   "id": "78a78065",
   "metadata": {},
   "source": [
    "# Test the Installation"
   ]
  },
  {
   "cell_type": "code",
   "execution_count": null,
   "id": "7936d945",
   "metadata": {},
   "outputs": [],
   "source": [
    "import importlib\n",
    "def importPackages(modules):\n",
    "    for library in modules:\n",
    "        try:\n",
    "            if library == 'gdal':\n",
    "                exec(\"from osgeo import gdal\")\n",
    "                print(\"Package {} successfully imported!\".format(library))\n",
    "            else:\n",
    "                exec(\"from {module} import *\".format(module=library))\n",
    "            print(\"Package {} successfully imported!\".format(library))\n",
    "        except Exception as e:\n",
    "            print(\"\\n\\n E R R O R !!! With Package {}\".format(library))\n",
    "            print(e)\n",
    "    #print(dir()) # Exactly working as thought\n",
    "pckList = []\n",
    "pckList.append('gdal')\n",
    "pckList.append('psycopg2')\n",
    "pckList.append('shapely')\n",
    "pckList.append('fiona')\n",
    "pckList.append('rasterio')\n",
    "pckList.append('geopandas')\n",
    "pckList.append('folium')\n",
    "pckList.append('json')\n",
    "pckList.append('os')\n",
    "pckList.append('sys')\n",
    "\n",
    "importPackages(pckList)"
   ]
  },
  {
   "cell_type": "markdown",
   "id": "7ac8043b",
   "metadata": {},
   "source": [
    "## Test Database connection to PostgreSQL/PostGIS"
   ]
  },
  {
   "cell_type": "markdown",
   "id": "e33fef56",
   "metadata": {},
   "source": [
    "<font color='red'>You need to set the correct credentials (user & password) first!</font>"
   ]
  },
  {
   "cell_type": "code",
   "execution_count": null,
   "id": "b6335179",
   "metadata": {},
   "outputs": [],
   "source": [
    "import psycopg2\n",
    "def postgres_test(dbn,h,u,pwd,p):\n",
    "    try:\n",
    "        conn = psycopg2.connect(\"dbname={} host={} user={} password={} port={}\".format(dbn,h,u,pwd,p))\n",
    "        conn.close()\n",
    "        return True\n",
    "    except:\n",
    "        return False\n",
    "\n",
    "database = \"casdb2023\"\n",
    "host = \"ikgpgis.ethz.ch\"\n",
    "usr = \"xxx\"\n",
    "pwd = \"xxx\"\n",
    "port = \"5432\"\n",
    "print(postgres_test(database,host,usr,pwd,port))\n"
   ]
  },
  {
   "cell_type": "markdown",
   "id": "b3c4d13e",
   "metadata": {},
   "source": [
    "## Test Reading Data"
   ]
  },
  {
   "cell_type": "markdown",
   "id": "5629bdc0",
   "metadata": {},
   "source": [
    "Copy from one format (Esri Shape) to another (MapInfo) using commandline tool ```ogr2ogr```"
   ]
  },
  {
   "cell_type": "code",
   "execution_count": null,
   "id": "3ba0585b",
   "metadata": {},
   "outputs": [],
   "source": [
    "import os\n",
    "os.system('ogr2ogr -f \"MapInfo File\" Data/Gemeinden_Solothurn.tab Data/Gemeinden_Solothurn.shp')\n",
    "os.system('ogr2ogr -f \"GeoJSON\"  -t_srs \"EPSG:4326\" Data/Gemeinden_SolothurnWGS84.json Data/Gemeinden_Solothurn.shp')\n"
   ]
  },
  {
   "cell_type": "markdown",
   "id": "bd72e80c",
   "metadata": {},
   "source": [
    "Read some data..\n",
    "\n",
    "You should see something like:\n",
    "```\n",
    "<osgeo.ogr.DataSource; proxy of <Swig Object of type 'OGRDataSourceShadow *' at 0x7fab289df960> >\n",
    "Gemeinden_Solothurn\n",
    "109\n",
    "Der Datensatz 'Gemeinden_Solothurn' hat 109 Gemeinden\n",
    "```"
   ]
  },
  {
   "cell_type": "code",
   "execution_count": null,
   "id": "0b24b4c4",
   "metadata": {},
   "outputs": [],
   "source": [
    "from osgeo import ogr\n",
    "drv = ogr.GetDriverByName(\"ESRI Shapefile\")\n",
    "path2ds = \"Data/Gemeinden_Solothurn.shp\"\n",
    "datasource = drv.Open(path2ds)\n",
    "print(datasource)\n",
    "\n",
    "mylayer = datasource.GetLayer(0)\n",
    "print(mylayer.GetName())\n",
    "\n",
    "ftrcnt = mylayer.GetFeatureCount()\n",
    "print(ftrcnt)\n",
    "\n",
    "print(\"Der Datensatz '%s' hat %i Gemeinden\" %(mylayer.GetName(),int(ftrcnt)))"
   ]
  },
  {
   "cell_type": "markdown",
   "id": "803edd61",
   "metadata": {},
   "source": [
    "## Rasterdaten\n",
    "\n",
    "\n",
    "You should see something like:\n",
    "```\n",
    "Anzahl Spalten: 5800\n",
    "Anzahl Zeilen: 4800\n",
    "Anzahl Baender: 3\n",
    "```"
   ]
  },
  {
   "cell_type": "code",
   "execution_count": null,
   "id": "bae65124",
   "metadata": {},
   "outputs": [],
   "source": [
    "from osgeo import gdal\n",
    "\n",
    "fn = 'Data/ortho14_5m_rgb_solothurn.tif'\n",
    "ds = gdal.Open(fn)\n",
    "if ds is None:\n",
    "    print ('Datensatz %s konnte nicht geöffnet werden!' %fn)\n",
    "    sys.exit()\n",
    "\n",
    "#Dimension des Rasterbildes\n",
    "cols = ds.RasterXSize\n",
    "rows = ds.RasterYSize\n",
    "bands = ds.RasterCount\n",
    "\n",
    "print (\"Anzahl Spalten: %d\" %cols)\n",
    "print (\"Anzahl Zeilen: %d\" %rows)\n",
    "print (\"Anzahl Baender: %d\" %bands)"
   ]
  },
  {
   "cell_type": "markdown",
   "id": "56b04666",
   "metadata": {},
   "source": [
    "## Commandline commands\n",
    "\n",
    "\n",
    "You should see something like:\n",
    "```\n",
    "command to run: gdaldem slope ../Data/Elevation_raster.tif ../Data/Ele_slope.tif -s 10000\n",
    "0...10...20...30...40...50...60...70...80...90...100 - done.\n",
    "```"
   ]
  },
  {
   "cell_type": "code",
   "execution_count": null,
   "id": "1e18fe3b",
   "metadata": {},
   "outputs": [],
   "source": [
    "imagefilename = \"Data/Elevation_raster.tif\"\n",
    "path = \"Data/\"\n",
    "\n",
    "sloapcommand = 'gdaldem slope %s %sEle_slope.tif -s 10000' %(imagefilename,path)\n",
    "print (\"command to run: %s\" %sloapcommand)   #gdaldem slope input_dem output_slope_map\n",
    "\n",
    "os.system(sloapcommand)"
   ]
  },
  {
   "cell_type": "markdown",
   "id": "0ee3d4bb",
   "metadata": {},
   "source": [
    "## Geowebservices\n",
    "\n",
    "You should see something like:\n",
    "```\n",
    "Successfully downloaded resource http://wms.geo.admin.ch/?SERVICE=WMS&REQUEST=GetMap&VERSION=1.3.0&LAYERS=ch.bfs.arealstatistik-1985-04&STYLES=default&CRS=EPSG:21781&BBOX=550000,60000,660000,140000&WIDTH=800&HEIGHT=582&FORMAT=image/png\n",
    "```"
   ]
  },
  {
   "cell_type": "code",
   "execution_count": null,
   "id": "b614363c",
   "metadata": {
    "scrolled": false
   },
   "outputs": [],
   "source": [
    "# -*- coding: utf-8 -*-\n",
    "import os, shutil, sys\n",
    "import urllib.request\n",
    "from osgeo import gdal\n",
    "from osgeo.gdalconst import *\n",
    "\n",
    "def download(url, dest, fileName=None):\n",
    "    try:\n",
    "        r= urllib.request.urlopen(url)\n",
    "        fileName = os.path.join(dest, fileName)\n",
    "        print(f\"Download stored in {fileName}.\")\n",
    "        with open(fileName, 'wb') as f:\n",
    "            shutil.copyfileobj(r,f)\n",
    "        r.close()\n",
    "        print(\"Successfully downloaded resource {}\".format(url))\n",
    "    except:\n",
    "        print(\"ERROR Downloading resource {}\".format(url))\n",
    "\n",
    "path2save2 = \"Data/\" #Zielpfad\n",
    "wmsfile = \"wms.gif\"\n",
    "wmslink = \"https://wms.geo.admin.ch/?SERVICE=WMS&REQUEST=GetMap&VERSION=1.3.0&LAYERS=ch.bafu.bundesinventare-bln&STYLES=default&CRS=EPSG:2056&BBOX=2550000,1060000,2660000,1140000&WIDTH=800&HEIGHT=582&FORMAT=image/png\"\n",
    "download(wmslink,path2save2,wmsfile)\n",
    "    "
   ]
  },
  {
   "cell_type": "markdown",
   "id": "7c78a19d",
   "metadata": {},
   "source": [
    "## Shapely\n",
    "\n",
    "You should see something like:\n",
    "```\n",
    "Gemeinde Rohr hat folgenden Zentroid: (638811.067724, 251323.787658) und folgende Flaeche 2229578.988870m2\n",
    "```"
   ]
  },
  {
   "cell_type": "code",
   "execution_count": null,
   "id": "e8c23792",
   "metadata": {},
   "outputs": [],
   "source": [
    "from osgeo import ogr\n",
    "import shapely.wkt\n",
    "\n",
    "shapefile = ogr.Open(\"Data/Gemeinden_Solothurn.shp\")\n",
    "if shapefile is None:\n",
    "    print (\"Datensatz konnte nicht geoeffnet werden.\\n\")\n",
    "    sys.exit()\n",
    "\n",
    "layer = shapefile.GetLayer(0)\n",
    "\n",
    "#Gemeindegeometry extrahieren:\n",
    "geometry = None\n",
    "cnt = 0\n",
    "for feature in layer:\n",
    "    while cnt < 1:\n",
    "        #Extract Gemeinde-Name\n",
    "        gemname = feature.GetField(\"gmde_name\")\n",
    "        #Get Geometry (Polygon)\n",
    "        gemgeometry = feature.GetGeometryRef()\n",
    "        #\"Convert\" Geometry to shapely-geometry\n",
    "        gemgeomaswkt = gemgeometry.ExportToWkt()\n",
    "        shapelypolygon = shapely.wkt.loads(gemgeomaswkt)\n",
    "        #Extract Centroid\n",
    "        centroid_point = shapelypolygon.centroid\n",
    "        x=centroid_point.x\n",
    "        y=centroid_point.y\n",
    "        area = shapelypolygon.area\n",
    "        #Printout Information\n",
    "        print (\"Gemeinde %s hat folgenden Zentroid: (%f, %f) und folgende Flaeche %fm2\" %(gemname, x, y, area))\n",
    "        cnt += 1"
   ]
  },
  {
   "cell_type": "markdown",
   "id": "bff7d70e",
   "metadata": {},
   "source": [
    "## Fiona\n",
    "\n",
    "You should see something like:\n",
    "```\n",
    "Anzahl Datensätze: 109 \n",
    "Format: ESRI Shapefile\n",
    "Geo-Referenzsystem: {'proj': 'somerc', 'lat_0': 46.9524055555556, 'lon_0': 7.43958333333333, 'k_0': 1, 'x_0': 600000, 'y_0': 200000, 'ellps': 'bessel', 'units': 'm', 'no_defs': True}\n",
    "Ausdehnung: (592560.389, 213702.99, 644759.038, 261329.631)\n",
    "```"
   ]
  },
  {
   "cell_type": "code",
   "execution_count": null,
   "id": "7a396363",
   "metadata": {},
   "outputs": [],
   "source": [
    "import fiona\n",
    "\n",
    "c = fiona.open('Data/Gemeinden_Solothurn.shp', 'r')\n",
    "print(\"Anzahl Datensätze: %i \" %len(list(c)))\n",
    "print(\"Format: %s\" %c.driver)\n",
    "print(\"Geo-Referenzsystem: %s\" %c.crs)\n",
    "print(\"Ausdehnung: %s\" %str(c.bounds))\n",
    "\n"
   ]
  },
  {
   "cell_type": "markdown",
   "id": "79a6c5d9",
   "metadata": {},
   "source": [
    "## Folium\n",
    "\n",
    "An interactive map located at EHT ZH Hönggerberg with a pin should appear."
   ]
  },
  {
   "cell_type": "code",
   "execution_count": null,
   "id": "1535ead4",
   "metadata": {},
   "outputs": [],
   "source": [
    "import folium, json\n",
    "m = folium.Map(location=[47.40875, 8.50778], zoom_start=17)\n",
    "\n",
    "folium.Marker(\n",
    "    location=[47.40875, 8.50778],\n",
    "    popup=\"ETH\",\n",
    "    icon=folium.Icon(color=\"red\", icon=\"info-sign\"),\n",
    ").add_to(m)\n",
    "m"
   ]
  },
  {
   "cell_type": "code",
   "execution_count": null,
   "id": "f788bcf3",
   "metadata": {},
   "outputs": [],
   "source": []
  }
 ],
 "metadata": {
  "kernelspec": {
   "display_name": "Python 3 (ipykernel)",
   "language": "python",
   "name": "python3"
  },
  "language_info": {
   "codemirror_mode": {
    "name": "ipython",
    "version": 3
   },
   "file_extension": ".py",
   "mimetype": "text/x-python",
   "name": "python",
   "nbconvert_exporter": "python",
   "pygments_lexer": "ipython3",
   "version": "3.9.7"
  }
 },
 "nbformat": 4,
 "nbformat_minor": 5
}
