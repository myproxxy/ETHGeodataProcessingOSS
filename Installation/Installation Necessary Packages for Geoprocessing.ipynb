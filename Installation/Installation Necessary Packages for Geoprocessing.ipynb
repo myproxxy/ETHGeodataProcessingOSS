{
 "cells": [
  {
   "cell_type": "markdown",
   "id": "74c8baf0",
   "metadata": {},
   "source": [
    "# Package Installation for Geodata Processing"
   ]
  },
  {
   "cell_type": "code",
   "execution_count": 31,
   "id": "ca7bfc5c",
   "metadata": {},
   "outputs": [],
   "source": [
    "import warnings\n",
    "warnings.filterwarnings('ignore')"
   ]
  },
  {
   "cell_type": "code",
   "execution_count": null,
   "id": "73d117fd",
   "metadata": {},
   "outputs": [],
   "source": [
    "import sys,os\n",
    "!{sys.executable} -m pip install gdal\n",
    "!{sys.executable} -m pip install psycopg2\n",
    "!{sys.executable} -m pip install shapely\n",
    "!{sys.executable} -m pip install fiona\n",
    "!{sys.executable} -m pip install rasterio\n",
    "!{sys.executable} -m pip install geopandas\n",
    "!{sys.executable} -m pip install folium\n",
    "!{sys.executable} -m pip install ipython-notebook"
   ]
  },
  {
   "cell_type": "markdown",
   "id": "d410bf0d",
   "metadata": {},
   "source": [
    "If the following commands may not be installed via Jupyter Notebook. Try it and if it fails, run the following commands in a command shell:"
   ]
  },
  {
   "cell_type": "code",
   "execution_count": 27,
   "id": "8eea8728",
   "metadata": {},
   "outputs": [
    {
     "ename": "SyntaxError",
     "evalue": "invalid syntax (3583623578.py, line 1)",
     "output_type": "error",
     "traceback": [
      "\u001b[0;36m  File \u001b[0;32m\"/var/folders/60/hv67rq_53831s0j6stgblk580000gn/T/ipykernel_85954/3583623578.py\"\u001b[0;36m, line \u001b[0;32m1\u001b[0m\n\u001b[0;31m    conda install -c conda-forge ipyleaflet\u001b[0m\n\u001b[0m          ^\u001b[0m\n\u001b[0;31mSyntaxError\u001b[0m\u001b[0;31m:\u001b[0m invalid syntax\n"
     ]
    }
   ],
   "source": [
    "conda install -c conda-forge ipyleaflet\n",
    "conda install -c conda-forge ipython-notebook"
   ]
  },
  {
   "cell_type": "markdown",
   "id": "b4e4c083",
   "metadata": {},
   "source": [
    "# Test the Installation"
   ]
  },
  {
   "cell_type": "code",
   "execution_count": 28,
   "id": "0e44aa86",
   "metadata": {},
   "outputs": [
    {
     "name": "stdout",
     "output_type": "stream",
     "text": [
      "Package gdal successfully imported!\n",
      "Package psycopg2 successfully imported!\n",
      "Package shapely successfully imported!\n",
      "Package fiona successfully imported!\n",
      "Package rasterio successfully imported!\n",
      "Package geopandas successfully imported!\n",
      "Package folium successfully imported!\n"
     ]
    }
   ],
   "source": [
    "import importlib\n",
    "def importPackages(modules):\n",
    "    for library in modules:\n",
    "        try:\n",
    "            exec(\"from {module} import *\".format(module=library))\n",
    "            print(\"Package {} successfully imported!\".format(library))\n",
    "        except Exception as e:\n",
    "            print(\"\\n\\n E R R O R !!! With Package {}\".format(library))\n",
    "            print(e)\n",
    "    #print(dir()) # Exactly working as thought\n",
    "pckList = []\n",
    "pckList.append('gdal')\n",
    "pckList.append('psycopg2')\n",
    "pckList.append('shapely')\n",
    "pckList.append('fiona')\n",
    "pckList.append('rasterio')\n",
    "pckList.append('geopandas')\n",
    "pckList.append('folium')\n",
    "\n",
    "importPackages(pckList)"
   ]
  },
  {
   "cell_type": "markdown",
   "id": "2732b9e3",
   "metadata": {},
   "source": [
    "### Test Database connection to PostgreSQL/PostGIS"
   ]
  },
  {
   "cell_type": "code",
   "execution_count": 29,
   "id": "93ebbe1e",
   "metadata": {},
   "outputs": [
    {
     "name": "stdout",
     "output_type": "stream",
     "text": [
      "False\n"
     ]
    }
   ],
   "source": [
    "import psycopg2\n",
    "def postgres_test(dbn,h,u,pwd,p):\n",
    "    try:\n",
    "        conn = psycopg2.connect(dbname=dbn, host=h, user=u, password=pwd, port=p)\n",
    "        conn.close()\n",
    "        return True\n",
    "    except:\n",
    "        return False\n",
    "\n",
    "database = \"postgis\"\n",
    "host = \"ikgsql2.ethz.ch\"\n",
    "usr = \"postgres\"\n",
    "pwd = \"tur4finupum9\"\n",
    "port = \"5432\"\n",
    "print(postgres_test(database,usr,host,pwd,port))\n"
   ]
  },
  {
   "cell_type": "markdown",
   "id": "87a9765c",
   "metadata": {},
   "source": [
    "### Test Reading Data"
   ]
  },
  {
   "cell_type": "markdown",
   "id": "933509ab",
   "metadata": {},
   "source": [
    "Copy from one format (Esri Shape) to another (MapInfo) using commandline tool ```ogr2ogr```"
   ]
  },
  {
   "cell_type": "code",
   "execution_count": 32,
   "id": "6cbb962a",
   "metadata": {},
   "outputs": [
    {
     "name": "stderr",
     "output_type": "stream",
     "text": [
      "Warning 1: The output driver does not seem to natively support Integer64 type for field gem_bfs. Converting it to Real instead. -mapFieldType can be used to control field type conversion.\n",
      "Warning 1: The output driver does not seem to natively support Integer64 type for field gmde_nr. Converting it to Real instead. -mapFieldType can be used to control field type conversion.\n",
      "Warning 1: The output driver does not seem to natively support Integer64 type for field bzrk_nr. Converting it to Real instead. -mapFieldType can be used to control field type conversion.\n",
      "Warning 1: The output driver does not seem to natively support Integer64 type for field eg_nr. Converting it to Real instead. -mapFieldType can be used to control field type conversion.\n",
      "Warning 1: The output driver does not seem to natively support Integer64 type for field plz. Converting it to Real instead. -mapFieldType can be used to control field type conversion.\n",
      "Warning 1: The output driver does not seem to natively support Integer64 type for field archive. Converting it to Real instead. -mapFieldType can be used to control field type conversion.\n"
     ]
    },
    {
     "data": {
      "text/plain": [
       "0"
      ]
     },
     "execution_count": 32,
     "metadata": {},
     "output_type": "execute_result"
    }
   ],
   "source": [
    "import os\n",
    "os.system('ogr2ogr -f \"MapInfo File\" ../Data/Gemeinden_Solothurn.tab ../Data/Gemeinden_Solothurn.shp')"
   ]
  },
  {
   "cell_type": "markdown",
   "id": "d57ad63f",
   "metadata": {},
   "source": [
    "Read some data..\n",
    "\n",
    "You should see something like:\n",
    "```\n",
    "<osgeo.ogr.DataSource; proxy of <Swig Object of type 'OGRDataSourceShadow *' at 0x7fab289df960> >\n",
    "Gemeinden_Solothurn\n",
    "109\n",
    "Der Datensatz 'Gemeinden_Solothurn' hat 109 Gemeinden\n",
    "```"
   ]
  },
  {
   "cell_type": "code",
   "execution_count": 33,
   "id": "39265f72",
   "metadata": {},
   "outputs": [
    {
     "name": "stdout",
     "output_type": "stream",
     "text": [
      "<osgeo.ogr.DataSource; proxy of <Swig Object of type 'OGRDataSourceShadow *' at 0x7fab1b174d20> >\n",
      "Gemeinden_Solothurn\n",
      "109\n",
      "Der Datensatz 'Gemeinden_Solothurn' hat 109 Gemeinden\n"
     ]
    }
   ],
   "source": [
    "import ogr\n",
    "drv = ogr.GetDriverByName(\"ESRI Shapefile\")\n",
    "path2ds = \"../Data/Gemeinden_Solothurn.shp\"\n",
    "datasource = drv.Open(path2ds)\n",
    "print(datasource)\n",
    "\n",
    "mylayer = datasource.GetLayer(0)\n",
    "print(mylayer.GetName())\n",
    "\n",
    "ftrcnt = mylayer.GetFeatureCount()\n",
    "print(ftrcnt)\n",
    "\n",
    "print(\"Der Datensatz '%s' hat %i Gemeinden\" %(mylayer.GetName(),int(ftrcnt)))"
   ]
  },
  {
   "cell_type": "markdown",
   "id": "8cdbafb6",
   "metadata": {},
   "source": [
    "## Umprojektion\n",
    "\n",
    "You should see something like:\n",
    "```\n",
    "Ausgangskoordinaten: POINT (1120351.57 741921.42)\n",
    "Transformierte Koordinaten: POINT (47.3488013802885 -122.598135130878)\n",
    "```"
   ]
  },
  {
   "cell_type": "code",
   "execution_count": 34,
   "id": "7c698ed1",
   "metadata": {},
   "outputs": [
    {
     "name": "stdout",
     "output_type": "stream",
     "text": [
      "Ausgangskoordinaten: POINT (1120351.57 741921.42)\n",
      "Transformierte Koordinaten: POINT (47.3488013802885 -122.598135130878)\n"
     ]
    }
   ],
   "source": [
    "import ogr \n",
    "import osr  \n",
    "source = osr.SpatialReference() \n",
    "source.ImportFromEPSG(2927)  \n",
    "\n",
    "target = osr.SpatialReference() \n",
    "target.ImportFromEPSG(4326)  \n",
    "\n",
    "transform = osr.CoordinateTransformation(source, target)  \n",
    "\n",
    "origpnt = \"POINT (1120351.57 741921.42)\"\n",
    "transfpoint = ogr.CreateGeometryFromWkt(origpnt) \n",
    "transfpoint.Transform(transform) \n",
    "print(\"Ausgangskoordinaten: %s\" %origpnt)\n",
    "print(\"Transformierte Koordinaten: %s\" %transfpoint.ExportToWkt())\n"
   ]
  },
  {
   "cell_type": "markdown",
   "id": "d99ccb14",
   "metadata": {},
   "source": [
    "## Rasterdaten\n",
    "\n",
    "\n",
    "You should see something like:\n",
    "```\n",
    "Anzahl Spalten: 5800\n",
    "Anzahl Zeilen: 4800\n",
    "Anzahl Baender: 3\n",
    "```"
   ]
  },
  {
   "cell_type": "code",
   "execution_count": 35,
   "id": "404c9830",
   "metadata": {},
   "outputs": [
    {
     "name": "stdout",
     "output_type": "stream",
     "text": [
      "Anzahl Spalten: 5800\n",
      "Anzahl Zeilen: 4800\n",
      "Anzahl Baender: 3\n"
     ]
    }
   ],
   "source": [
    "import gdal\n",
    "\n",
    "fn = '../Data/ortho14_5m_rgb_solothurn.tif'\n",
    "ds = gdal.Open(fn)\n",
    "if ds is None:\n",
    "    print ('Datensatz %s konnte nicht geöffnet werden!' %fn)\n",
    "    sys.exit()\n",
    "\n",
    "#Dimension des Rasterbildes\n",
    "cols = ds.RasterXSize\n",
    "rows = ds.RasterYSize\n",
    "bands = ds.RasterCount\n",
    "\n",
    "print (\"Anzahl Spalten: %d\" %cols)\n",
    "print (\"Anzahl Zeilen: %d\" %rows)\n",
    "print (\"Anzahl Baender: %d\" %bands)"
   ]
  },
  {
   "cell_type": "markdown",
   "id": "a95985e0",
   "metadata": {},
   "source": [
    "## Commandline commands\n",
    "\n",
    "\n",
    "You should see something like:\n",
    "```\n",
    "command to run: gdaldem slope ../Data/Elevation_raster.tif ../Data/Ele_slope.tif -s 10000\n",
    "0...10...20...30...40...50...60...70...80...90...100 - done.\n",
    "```"
   ]
  },
  {
   "cell_type": "code",
   "execution_count": 36,
   "id": "e2ee8fb8",
   "metadata": {},
   "outputs": [
    {
     "name": "stdout",
     "output_type": "stream",
     "text": [
      "command to run: gdaldem slope ../Data/Elevation_raster.tif ../Data/Ele_slope.tif -s 10000\n",
      "0...10...20...30...40...50...60...70...80...90...100 - done.\n"
     ]
    },
    {
     "data": {
      "text/plain": [
       "0"
      ]
     },
     "execution_count": 36,
     "metadata": {},
     "output_type": "execute_result"
    }
   ],
   "source": [
    "imagefilename = \"../Data/Elevation_raster.tif\"\n",
    "path = \"../Data/\"\n",
    "\n",
    "sloapcommand = 'gdaldem slope %s %sEle_slope.tif -s 10000' %(imagefilename,path)\n",
    "print (\"command to run: %s\" %sloapcommand)   #gdaldem slope input_dem output_slope_map\n",
    "\n",
    "os.system(sloapcommand)"
   ]
  },
  {
   "cell_type": "markdown",
   "id": "e98bc324",
   "metadata": {},
   "source": [
    "## Geowebservices\n",
    "\n",
    "You should see something like:\n",
    "```\n",
    "Successfully downloaded resource http://wms.geo.admin.ch/?SERVICE=WMS&REQUEST=GetMap&VERSION=1.3.0&LAYERS=ch.bfs.arealstatistik-1985-04&STYLES=default&CRS=EPSG:21781&BBOX=550000,60000,660000,140000&WIDTH=800&HEIGHT=582&FORMAT=image/png\n",
    "```"
   ]
  },
  {
   "cell_type": "code",
   "execution_count": 37,
   "id": "fd27c1ea",
   "metadata": {},
   "outputs": [
    {
     "name": "stdout",
     "output_type": "stream",
     "text": [
      "Successfully downloaded resource http://wms.geo.admin.ch/?SERVICE=WMS&REQUEST=GetMap&VERSION=1.3.0&LAYERS=ch.bfs.arealstatistik-1985-04&STYLES=default&CRS=EPSG:21781&BBOX=550000,60000,660000,140000&WIDTH=800&HEIGHT=582&FORMAT=image/png\n"
     ]
    }
   ],
   "source": [
    "# -*- coding: utf-8 -*-\n",
    "\n",
    "import os, shutil, sys\n",
    "import urllib.request\n",
    "import gdal\n",
    "from gdalconst import *\n",
    "\n",
    "def download(url, dest, fileName=None):\n",
    "    try:\n",
    "        r= urllib.request.urlopen(url)\n",
    "        fileName = os.path.join(dest, fileName)\n",
    "        with open(fileName, 'wb') as f:\n",
    "            shutil.copyfileobj(r,f)\n",
    "        r.close()\n",
    "        print(\"Successfully downloaded resource {}\".format(url))\n",
    "    except:\n",
    "        print(\"ERROR Downloading resource {}\".format(url))\n",
    "\n",
    "path2save2 = \"../Data/\" #Zielpfad\n",
    "wmsfile = \"wms.gif\"\n",
    "wmslink = \"http://wms.geo.admin.ch/?SERVICE=WMS&REQUEST=GetMap&VERSION=1.3.0&LAYERS=ch.bfs.arealstatistik-1985-04&STYLES=default&CRS=EPSG:21781&BBOX=550000,60000,660000,140000&WIDTH=800&HEIGHT=582&FORMAT=image/png\"\n",
    "download(wmslink,path2save2,wmsfile)\n",
    "    "
   ]
  },
  {
   "cell_type": "markdown",
   "id": "634c7e97",
   "metadata": {},
   "source": [
    "## Shapely\n",
    "\n",
    "You should see something like:\n",
    "```\n",
    "Gemeinde Rohr hat folgenden Zentroid: (638811.067724, 251323.787658) und folgende Flaeche 2229578.988870m2\n",
    "```"
   ]
  },
  {
   "cell_type": "code",
   "execution_count": 42,
   "id": "6469a5f3",
   "metadata": {},
   "outputs": [
    {
     "name": "stdout",
     "output_type": "stream",
     "text": [
      "Gemeinde Rohr hat folgenden Zentroid: (638811.067724, 251323.787658) und folgende Flaeche 2229578.988870m2\n"
     ]
    }
   ],
   "source": [
    "import ogr\n",
    "import shapely.wkt\n",
    "\n",
    "shapefile = ogr.Open(\"../Data/Gemeinden_Solothurn.shp\")\n",
    "if shapefile is None:\n",
    "    print (\"Datensatz konnte nicht geoeffnet werden.\\n\")\n",
    "    sys.exit()\n",
    "\n",
    "layer = shapefile.GetLayer(0)\n",
    "\n",
    "#Gemeindegeometry extrahieren:\n",
    "geometry = None\n",
    "cnt = 0\n",
    "for feature in layer:\n",
    "    while cnt < 1:\n",
    "        #Extract Gemeinde-Name\n",
    "        gemname = feature.GetField(\"gmde_name\")\n",
    "        #Get Geometry (Polygon)\n",
    "        gemgeometry = feature.GetGeometryRef()\n",
    "        #\"Convert\" Geometry to shapely-geometry\n",
    "        gemgeomaswkt = gemgeometry.ExportToWkt()\n",
    "        shapelypolygon = shapely.wkt.loads(gemgeomaswkt)\n",
    "        #Extract Centroid\n",
    "        centroid_point = shapelypolygon.centroid\n",
    "        x=centroid_point.x\n",
    "        y=centroid_point.y\n",
    "        area = shapelypolygon.area\n",
    "        #Printout Information\n",
    "        print (\"Gemeinde %s hat folgenden Zentroid: (%f, %f) und folgende Flaeche %fm2\" %(gemname, x, y, area))\n",
    "        cnt += 1"
   ]
  },
  {
   "cell_type": "markdown",
   "id": "29c3b53a",
   "metadata": {},
   "source": [
    "## Fiona\n",
    "\n",
    "You should see something like:\n",
    "```\n",
    "Anzahl Datensätze: 109 \n",
    "Format: ESRI Shapefile\n",
    "Geo-Referenzsystem: {'proj': 'somerc', 'lat_0': 46.9524055555556, 'lon_0': 7.43958333333333, 'k_0': 1, 'x_0': 600000, 'y_0': 200000, 'ellps': 'bessel', 'units': 'm', 'no_defs': True}\n",
    "Ausdehnung: (592560.389, 213702.99, 644759.038, 261329.631)\n",
    "```"
   ]
  },
  {
   "cell_type": "code",
   "execution_count": 45,
   "id": "e586054c",
   "metadata": {},
   "outputs": [
    {
     "name": "stdout",
     "output_type": "stream",
     "text": [
      "Anzahl Datensätze: 109 \n",
      "Format: ESRI Shapefile\n",
      "Geo-Referenzsystem: {'proj': 'somerc', 'lat_0': 46.9524055555556, 'lon_0': 7.43958333333333, 'k_0': 1, 'x_0': 600000, 'y_0': 200000, 'ellps': 'bessel', 'units': 'm', 'no_defs': True}\n",
      "Ausdehnung: (592560.389, 213702.99, 644759.038, 261329.631)\n"
     ]
    },
    {
     "name": "stderr",
     "output_type": "stream",
     "text": [
      "ERROR 1: PROJ: proj_identify: /Users/hansjoerg.stark/opt/anaconda3/share/proj/proj.db lacks DATABASE.LAYOUT.VERSION.MAJOR / DATABASE.LAYOUT.VERSION.MINOR metadata. It comes from another PROJ installation.\n",
      "ERROR 1: PROJ: proj_create_from_name: /Users/hansjoerg.stark/opt/anaconda3/share/proj/proj.db lacks DATABASE.LAYOUT.VERSION.MAJOR / DATABASE.LAYOUT.VERSION.MINOR metadata. It comes from another PROJ installation.\n"
     ]
    }
   ],
   "source": [
    "import fiona\n",
    "\n",
    "c = fiona.open('../Data/Gemeinden_Solothurn.shp', 'r')\n",
    "print(\"Anzahl Datensätze: %i \" %len(list(c)))\n",
    "print(\"Format: %s\" %c.driver)\n",
    "print(\"Geo-Referenzsystem: %s\" %c.crs)\n",
    "print(\"Ausdehnung: %s\" %str(c.bounds))\n",
    "\n"
   ]
  },
  {
   "cell_type": "code",
   "execution_count": null,
   "id": "9504dc75",
   "metadata": {},
   "outputs": [],
   "source": []
  }
 ],
 "metadata": {
  "kernelspec": {
   "display_name": "Python 3.7.4 64-bit ('base': conda)",
   "language": "python",
   "name": "python374jvsc74a57bd0398a7d05fcda3e7b587d8600f5603e56e21eae656783de71b759244c5ef985d2"
  },
  "language_info": {
   "codemirror_mode": {
    "name": "ipython",
    "version": 3
   },
   "file_extension": ".py",
   "mimetype": "text/x-python",
   "name": "python",
   "nbconvert_exporter": "python",
   "pygments_lexer": "ipython3",
   "version": "3.9.7"
  }
 },
 "nbformat": 4,
 "nbformat_minor": 5
}
