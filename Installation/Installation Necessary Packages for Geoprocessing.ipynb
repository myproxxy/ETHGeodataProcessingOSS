{
 "cells": [
  {
   "cell_type": "markdown",
   "id": "a6abd5e9",
   "metadata": {},
   "source": [
    "# Package Installation for Geodata Processing"
   ]
  },
  {
   "cell_type": "code",
   "execution_count": 60,
   "id": "e608a61e",
   "metadata": {},
   "outputs": [],
   "source": [
    "import warnings\n",
    "warnings.filterwarnings('ignore')"
   ]
  },
  {
   "cell_type": "code",
   "execution_count": null,
   "id": "f1044b16",
   "metadata": {},
   "outputs": [],
   "source": [
    "import sys,os\n",
    "!{sys.executable} -m pip install gdal\n",
    "!{sys.executable} -m pip install psycopg2\n",
    "!{sys.executable} -m pip install shapely\n",
    "!{sys.executable} -m pip install fiona\n",
    "!{sys.executable} -m pip install rasterio\n",
    "!{sys.executable} -m pip install geopandas\n",
    "!{sys.executable} -m pip install folium\n",
    "!{sys.executable} -m pip install ipython-notebook"
   ]
  },
  {
   "cell_type": "markdown",
   "id": "06e84f01",
   "metadata": {},
   "source": [
    "If the following commands may not be installed via Jupyter Notebook. Try it and if it fails, run the following commands in a command shell:"
   ]
  },
  {
   "cell_type": "code",
   "execution_count": 62,
   "id": "65bbe0b9",
   "metadata": {},
   "outputs": [
    {
     "name": "stdout",
     "output_type": "stream",
     "text": [
      "Collecting package metadata (current_repodata.json): ...working... done\n",
      "Solving environment: ...working... done\n",
      "\n",
      "# All requested packages already installed.\n",
      "\n",
      "Collecting package metadata (current_repodata.json): ...working... done\n",
      "Solving environment: ...working... failed with initial frozen solve. Retrying with flexible solve.\n",
      "Collecting package metadata (repodata.json): ...working... done\n",
      "Solving environment: ...working... failed with initial frozen solve. Retrying with flexible solve.\n"
     ]
    },
    {
     "name": "stderr",
     "output_type": "stream",
     "text": [
      "\n",
      "PackagesNotFoundError: The following packages are not available from current channels:\n",
      "\n",
      "  - ipython-notebook\n",
      "\n",
      "Current channels:\n",
      "\n",
      "  - https://conda.anaconda.org/conda-forge/osx-64\n",
      "  - https://conda.anaconda.org/conda-forge/noarch\n",
      "  - https://repo.anaconda.com/pkgs/main/osx-64\n",
      "  - https://repo.anaconda.com/pkgs/main/noarch\n",
      "  - https://repo.anaconda.com/pkgs/r/osx-64\n",
      "  - https://repo.anaconda.com/pkgs/r/noarch\n",
      "\n",
      "To search for alternate channels that may provide the conda package you're\n",
      "looking for, navigate to\n",
      "\n",
      "    https://anaconda.org\n",
      "\n",
      "and use the search bar at the top of the page.\n",
      "\n",
      "\n"
     ]
    },
    {
     "data": {
      "text/plain": [
       "256"
      ]
     },
     "execution_count": 62,
     "metadata": {},
     "output_type": "execute_result"
    }
   ],
   "source": [
    "import os\n",
    "os.system('conda install -c conda-forge ipyleaflet')\n",
    "os.system('conda install -c conda-forge ipython-notebook')"
   ]
  },
  {
   "cell_type": "markdown",
   "id": "62337e6e",
   "metadata": {},
   "source": [
    "# Test the Installation"
   ]
  },
  {
   "cell_type": "code",
   "execution_count": 63,
   "id": "f6c3bb8b",
   "metadata": {},
   "outputs": [
    {
     "name": "stdout",
     "output_type": "stream",
     "text": [
      "Package gdal successfully imported!\n",
      "Package psycopg2 successfully imported!\n",
      "Package shapely successfully imported!\n",
      "Package fiona successfully imported!\n",
      "Package rasterio successfully imported!\n",
      "Package geopandas successfully imported!\n",
      "Package folium successfully imported!\n"
     ]
    }
   ],
   "source": [
    "import importlib\n",
    "def importPackages(modules):\n",
    "    for library in modules:\n",
    "        try:\n",
    "            exec(\"from {module} import *\".format(module=library))\n",
    "            print(\"Package {} successfully imported!\".format(library))\n",
    "        except Exception as e:\n",
    "            print(\"\\n\\n E R R O R !!! With Package {}\".format(library))\n",
    "            print(e)\n",
    "    #print(dir()) # Exactly working as thought\n",
    "pckList = []\n",
    "pckList.append('gdal')\n",
    "pckList.append('psycopg2')\n",
    "pckList.append('shapely')\n",
    "pckList.append('fiona')\n",
    "pckList.append('rasterio')\n",
    "pckList.append('geopandas')\n",
    "pckList.append('folium')\n",
    "\n",
    "importPackages(pckList)"
   ]
  },
  {
   "cell_type": "markdown",
   "id": "c3734af8",
   "metadata": {},
   "source": [
    "## Test Database connection to PostgreSQL/PostGIS"
   ]
  },
  {
   "cell_type": "code",
   "execution_count": 64,
   "id": "dbcb77e2",
   "metadata": {},
   "outputs": [
    {
     "name": "stdout",
     "output_type": "stream",
     "text": [
      "False\n"
     ]
    }
   ],
   "source": [
    "import psycopg2\n",
    "def postgres_test(dbn,h,u,pwd,p):\n",
    "    try:\n",
    "        conn = psycopg2.connect(dbname=dbn, host=h, user=u, password=pwd, port=p)\n",
    "        conn.close()\n",
    "        return True\n",
    "    except:\n",
    "        return False\n",
    "\n",
    "database = \"postgis\"\n",
    "host = \"ikgsql2.ethz.ch\"\n",
    "usr = \"postgres\"\n",
    "pwd = \"tur4finupum9\"\n",
    "port = \"5432\"\n",
    "print(postgres_test(database,usr,host,pwd,port))\n"
   ]
  },
  {
   "cell_type": "markdown",
   "id": "a0e7d43f",
   "metadata": {},
   "source": [
    "## Test Reading Data"
   ]
  },
  {
   "cell_type": "markdown",
   "id": "4ce13a22",
   "metadata": {},
   "source": [
    "Copy from one format (Esri Shape) to another (MapInfo) using commandline tool ```ogr2ogr```"
   ]
  },
  {
   "cell_type": "code",
   "execution_count": 65,
   "id": "6f99378b",
   "metadata": {},
   "outputs": [
    {
     "name": "stderr",
     "output_type": "stream",
     "text": [
      "Warning 1: The output driver does not seem to natively support Integer64 type for field gem_bfs. Converting it to Real instead. -mapFieldType can be used to control field type conversion.\n",
      "Warning 1: The output driver does not seem to natively support Integer64 type for field gmde_nr. Converting it to Real instead. -mapFieldType can be used to control field type conversion.\n",
      "Warning 1: The output driver does not seem to natively support Integer64 type for field bzrk_nr. Converting it to Real instead. -mapFieldType can be used to control field type conversion.\n",
      "Warning 1: The output driver does not seem to natively support Integer64 type for field eg_nr. Converting it to Real instead. -mapFieldType can be used to control field type conversion.\n",
      "Warning 1: The output driver does not seem to natively support Integer64 type for field plz. Converting it to Real instead. -mapFieldType can be used to control field type conversion.\n",
      "Warning 1: The output driver does not seem to natively support Integer64 type for field archive. Converting it to Real instead. -mapFieldType can be used to control field type conversion.\n"
     ]
    },
    {
     "data": {
      "text/plain": [
       "0"
      ]
     },
     "execution_count": 65,
     "metadata": {},
     "output_type": "execute_result"
    }
   ],
   "source": [
    "import os\n",
    "os.system('ogr2ogr -f \"MapInfo File\" ../Data/Gemeinden_Solothurn.tab ../Data/Gemeinden_Solothurn.shp')"
   ]
  },
  {
   "cell_type": "markdown",
   "id": "204164ae",
   "metadata": {},
   "source": [
    "Read some data..\n",
    "\n",
    "You should see something like:\n",
    "```\n",
    "<osgeo.ogr.DataSource; proxy of <Swig Object of type 'OGRDataSourceShadow *' at 0x7fab289df960> >\n",
    "Gemeinden_Solothurn\n",
    "109\n",
    "Der Datensatz 'Gemeinden_Solothurn' hat 109 Gemeinden\n",
    "```"
   ]
  },
  {
   "cell_type": "code",
   "execution_count": 66,
   "id": "b1d6f0b4",
   "metadata": {},
   "outputs": [
    {
     "name": "stdout",
     "output_type": "stream",
     "text": [
      "<osgeo.ogr.DataSource; proxy of <Swig Object of type 'OGRDataSourceShadow *' at 0x7fab1b152090> >\n",
      "Gemeinden_Solothurn\n",
      "109\n",
      "Der Datensatz 'Gemeinden_Solothurn' hat 109 Gemeinden\n"
     ]
    }
   ],
   "source": [
    "import ogr\n",
    "drv = ogr.GetDriverByName(\"ESRI Shapefile\")\n",
    "path2ds = \"../Data/Gemeinden_Solothurn.shp\"\n",
    "datasource = drv.Open(path2ds)\n",
    "print(datasource)\n",
    "\n",
    "mylayer = datasource.GetLayer(0)\n",
    "print(mylayer.GetName())\n",
    "\n",
    "ftrcnt = mylayer.GetFeatureCount()\n",
    "print(ftrcnt)\n",
    "\n",
    "print(\"Der Datensatz '%s' hat %i Gemeinden\" %(mylayer.GetName(),int(ftrcnt)))"
   ]
  },
  {
   "cell_type": "markdown",
   "id": "a004fb24",
   "metadata": {},
   "source": [
    "## Umprojektion\n",
    "\n",
    "You should see something like:\n",
    "```\n",
    "Ausgangskoordinaten: POINT (1120351.57 741921.42)\n",
    "Transformierte Koordinaten: POINT (47.3488013802885 -122.598135130878)\n",
    "```"
   ]
  },
  {
   "cell_type": "code",
   "execution_count": 67,
   "id": "fcec8679",
   "metadata": {},
   "outputs": [
    {
     "name": "stdout",
     "output_type": "stream",
     "text": [
      "Ausgangskoordinaten: POINT (1120351.57 741921.42)\n",
      "Transformierte Koordinaten: POINT (47.3488013802885 -122.598135130878)\n"
     ]
    }
   ],
   "source": [
    "import ogr \n",
    "import osr  \n",
    "source = osr.SpatialReference() \n",
    "source.ImportFromEPSG(2927)  \n",
    "\n",
    "target = osr.SpatialReference() \n",
    "target.ImportFromEPSG(4326)  \n",
    "\n",
    "transform = osr.CoordinateTransformation(source, target)  \n",
    "\n",
    "origpnt = \"POINT (1120351.57 741921.42)\"\n",
    "transfpoint = ogr.CreateGeometryFromWkt(origpnt) \n",
    "transfpoint.Transform(transform) \n",
    "print(\"Ausgangskoordinaten: %s\" %origpnt)\n",
    "print(\"Transformierte Koordinaten: %s\" %transfpoint.ExportToWkt())\n"
   ]
  },
  {
   "cell_type": "markdown",
   "id": "7f066930",
   "metadata": {},
   "source": [
    "## Rasterdaten\n",
    "\n",
    "\n",
    "You should see something like:\n",
    "```\n",
    "Anzahl Spalten: 5800\n",
    "Anzahl Zeilen: 4800\n",
    "Anzahl Baender: 3\n",
    "```"
   ]
  },
  {
   "cell_type": "code",
   "execution_count": 68,
   "id": "53efdc5c",
   "metadata": {},
   "outputs": [
    {
     "name": "stdout",
     "output_type": "stream",
     "text": [
      "Anzahl Spalten: 5800\n",
      "Anzahl Zeilen: 4800\n",
      "Anzahl Baender: 3\n"
     ]
    }
   ],
   "source": [
    "import gdal\n",
    "\n",
    "fn = '../Data/ortho14_5m_rgb_solothurn.tif'\n",
    "ds = gdal.Open(fn)\n",
    "if ds is None:\n",
    "    print ('Datensatz %s konnte nicht geöffnet werden!' %fn)\n",
    "    sys.exit()\n",
    "\n",
    "#Dimension des Rasterbildes\n",
    "cols = ds.RasterXSize\n",
    "rows = ds.RasterYSize\n",
    "bands = ds.RasterCount\n",
    "\n",
    "print (\"Anzahl Spalten: %d\" %cols)\n",
    "print (\"Anzahl Zeilen: %d\" %rows)\n",
    "print (\"Anzahl Baender: %d\" %bands)"
   ]
  },
  {
   "cell_type": "markdown",
   "id": "492aa4cb",
   "metadata": {},
   "source": [
    "## Commandline commands\n",
    "\n",
    "\n",
    "You should see something like:\n",
    "```\n",
    "command to run: gdaldem slope ../Data/Elevation_raster.tif ../Data/Ele_slope.tif -s 10000\n",
    "0...10...20...30...40...50...60...70...80...90...100 - done.\n",
    "```"
   ]
  },
  {
   "cell_type": "code",
   "execution_count": 69,
   "id": "2fb21914",
   "metadata": {},
   "outputs": [
    {
     "name": "stdout",
     "output_type": "stream",
     "text": [
      "command to run: gdaldem slope ../Data/Elevation_raster.tif ../Data/Ele_slope.tif -s 10000\n",
      "0...10...20...30...40...50...60...70...80...90...100 - done.\n"
     ]
    },
    {
     "data": {
      "text/plain": [
       "0"
      ]
     },
     "execution_count": 69,
     "metadata": {},
     "output_type": "execute_result"
    }
   ],
   "source": [
    "imagefilename = \"../Data/Elevation_raster.tif\"\n",
    "path = \"../Data/\"\n",
    "\n",
    "sloapcommand = 'gdaldem slope %s %sEle_slope.tif -s 10000' %(imagefilename,path)\n",
    "print (\"command to run: %s\" %sloapcommand)   #gdaldem slope input_dem output_slope_map\n",
    "\n",
    "os.system(sloapcommand)"
   ]
  },
  {
   "cell_type": "markdown",
   "id": "0dcaf8fa",
   "metadata": {},
   "source": [
    "## Geowebservices\n",
    "\n",
    "You should see something like:\n",
    "```\n",
    "Successfully downloaded resource http://wms.geo.admin.ch/?SERVICE=WMS&REQUEST=GetMap&VERSION=1.3.0&LAYERS=ch.bfs.arealstatistik-1985-04&STYLES=default&CRS=EPSG:21781&BBOX=550000,60000,660000,140000&WIDTH=800&HEIGHT=582&FORMAT=image/png\n",
    "```"
   ]
  },
  {
   "cell_type": "code",
   "execution_count": 70,
   "id": "5079632c",
   "metadata": {},
   "outputs": [
    {
     "name": "stdout",
     "output_type": "stream",
     "text": [
      "Successfully downloaded resource http://wms.geo.admin.ch/?SERVICE=WMS&REQUEST=GetMap&VERSION=1.3.0&LAYERS=ch.bfs.arealstatistik-1985-04&STYLES=default&CRS=EPSG:21781&BBOX=550000,60000,660000,140000&WIDTH=800&HEIGHT=582&FORMAT=image/png\n"
     ]
    }
   ],
   "source": [
    "# -*- coding: utf-8 -*-\n",
    "import os, shutil, sys\n",
    "import urllib.request\n",
    "import gdal\n",
    "from gdalconst import *\n",
    "\n",
    "def download(url, dest, fileName=None):\n",
    "    try:\n",
    "        r= urllib.request.urlopen(url)\n",
    "        fileName = os.path.join(dest, fileName)\n",
    "        with open(fileName, 'wb') as f:\n",
    "            shutil.copyfileobj(r,f)\n",
    "        r.close()\n",
    "        print(\"Successfully downloaded resource {}\".format(url))\n",
    "    except:\n",
    "        print(\"ERROR Downloading resource {}\".format(url))\n",
    "\n",
    "path2save2 = \"../Data/\" #Zielpfad\n",
    "wmsfile = \"wms.gif\"\n",
    "wmslink = \"http://wms.geo.admin.ch/?SERVICE=WMS&REQUEST=GetMap&VERSION=1.3.0&LAYERS=ch.bfs.arealstatistik-1985-04&STYLES=default&CRS=EPSG:21781&BBOX=550000,60000,660000,140000&WIDTH=800&HEIGHT=582&FORMAT=image/png\"\n",
    "download(wmslink,path2save2,wmsfile)\n",
    "    "
   ]
  },
  {
   "cell_type": "markdown",
   "id": "2582c8a6",
   "metadata": {},
   "source": [
    "## Shapely\n",
    "\n",
    "You should see something like:\n",
    "```\n",
    "Gemeinde Rohr hat folgenden Zentroid: (638811.067724, 251323.787658) und folgende Flaeche 2229578.988870m2\n",
    "```"
   ]
  },
  {
   "cell_type": "code",
   "execution_count": 71,
   "id": "8bd4fb66",
   "metadata": {},
   "outputs": [
    {
     "name": "stdout",
     "output_type": "stream",
     "text": [
      "Gemeinde Rohr hat folgenden Zentroid: (638811.067724, 251323.787658) und folgende Flaeche 2229578.988870m2\n"
     ]
    }
   ],
   "source": [
    "import ogr\n",
    "import shapely.wkt\n",
    "\n",
    "shapefile = ogr.Open(\"../Data/Gemeinden_Solothurn.shp\")\n",
    "if shapefile is None:\n",
    "    print (\"Datensatz konnte nicht geoeffnet werden.\\n\")\n",
    "    sys.exit()\n",
    "\n",
    "layer = shapefile.GetLayer(0)\n",
    "\n",
    "#Gemeindegeometry extrahieren:\n",
    "geometry = None\n",
    "cnt = 0\n",
    "for feature in layer:\n",
    "    while cnt < 1:\n",
    "        #Extract Gemeinde-Name\n",
    "        gemname = feature.GetField(\"gmde_name\")\n",
    "        #Get Geometry (Polygon)\n",
    "        gemgeometry = feature.GetGeometryRef()\n",
    "        #\"Convert\" Geometry to shapely-geometry\n",
    "        gemgeomaswkt = gemgeometry.ExportToWkt()\n",
    "        shapelypolygon = shapely.wkt.loads(gemgeomaswkt)\n",
    "        #Extract Centroid\n",
    "        centroid_point = shapelypolygon.centroid\n",
    "        x=centroid_point.x\n",
    "        y=centroid_point.y\n",
    "        area = shapelypolygon.area\n",
    "        #Printout Information\n",
    "        print (\"Gemeinde %s hat folgenden Zentroid: (%f, %f) und folgende Flaeche %fm2\" %(gemname, x, y, area))\n",
    "        cnt += 1"
   ]
  },
  {
   "cell_type": "markdown",
   "id": "0488d420",
   "metadata": {},
   "source": [
    "## Fiona\n",
    "\n",
    "You should see something like:\n",
    "```\n",
    "Anzahl Datensätze: 109 \n",
    "Format: ESRI Shapefile\n",
    "Geo-Referenzsystem: {'proj': 'somerc', 'lat_0': 46.9524055555556, 'lon_0': 7.43958333333333, 'k_0': 1, 'x_0': 600000, 'y_0': 200000, 'ellps': 'bessel', 'units': 'm', 'no_defs': True}\n",
    "Ausdehnung: (592560.389, 213702.99, 644759.038, 261329.631)\n",
    "```"
   ]
  },
  {
   "cell_type": "code",
   "execution_count": 72,
   "id": "023adf26",
   "metadata": {},
   "outputs": [
    {
     "name": "stdout",
     "output_type": "stream",
     "text": [
      "Anzahl Datensätze: 109 \n",
      "Format: ESRI Shapefile\n",
      "Geo-Referenzsystem: {'proj': 'somerc', 'lat_0': 46.9524055555556, 'lon_0': 7.43958333333333, 'k_0': 1, 'x_0': 600000, 'y_0': 200000, 'ellps': 'bessel', 'units': 'm', 'no_defs': True}\n",
      "Ausdehnung: (592560.389, 213702.99, 644759.038, 261329.631)\n"
     ]
    },
    {
     "name": "stderr",
     "output_type": "stream",
     "text": [
      "ERROR 1: PROJ: proj_identify: /Users/hansjoerg.stark/opt/anaconda3/share/proj/proj.db lacks DATABASE.LAYOUT.VERSION.MAJOR / DATABASE.LAYOUT.VERSION.MINOR metadata. It comes from another PROJ installation.\n",
      "ERROR 1: PROJ: proj_create_from_name: /Users/hansjoerg.stark/opt/anaconda3/share/proj/proj.db lacks DATABASE.LAYOUT.VERSION.MAJOR / DATABASE.LAYOUT.VERSION.MINOR metadata. It comes from another PROJ installation.\n"
     ]
    }
   ],
   "source": [
    "import fiona\n",
    "\n",
    "c = fiona.open('../Data/Gemeinden_Solothurn.shp', 'r')\n",
    "print(\"Anzahl Datensätze: %i \" %len(list(c)))\n",
    "print(\"Format: %s\" %c.driver)\n",
    "print(\"Geo-Referenzsystem: %s\" %c.crs)\n",
    "print(\"Ausdehnung: %s\" %str(c.bounds))\n",
    "\n"
   ]
  },
  {
   "cell_type": "markdown",
   "id": "485cd4ec",
   "metadata": {},
   "source": [
    "## Folium\n",
    "\n",
    "An interactive map located at EHT ZH Hönggerberg with a pin should appear."
   ]
  },
  {
   "cell_type": "code",
   "execution_count": 73,
   "id": "3b1eb46d",
   "metadata": {},
   "outputs": [
    {
     "data": {
      "text/html": [
       "<div style=\"width:100%;\"><div style=\"position:relative;width:100%;height:0;padding-bottom:60%;\"><span style=\"color:#565656\">Make this Notebook Trusted to load map: File -> Trust Notebook</span><iframe src=\"about:blank\" style=\"position:absolute;width:100%;height:100%;left:0;top:0;border:none !important;\" data-html=%3C%21DOCTYPE%20html%3E%0A%3Chead%3E%20%20%20%20%0A%20%20%20%20%3Cmeta%20http-equiv%3D%22content-type%22%20content%3D%22text/html%3B%20charset%3DUTF-8%22%20/%3E%0A%20%20%20%20%0A%20%20%20%20%20%20%20%20%3Cscript%3E%0A%20%20%20%20%20%20%20%20%20%20%20%20L_NO_TOUCH%20%3D%20false%3B%0A%20%20%20%20%20%20%20%20%20%20%20%20L_DISABLE_3D%20%3D%20false%3B%0A%20%20%20%20%20%20%20%20%3C/script%3E%0A%20%20%20%20%0A%20%20%20%20%3Cstyle%3Ehtml%2C%20body%20%7Bwidth%3A%20100%25%3Bheight%3A%20100%25%3Bmargin%3A%200%3Bpadding%3A%200%3B%7D%3C/style%3E%0A%20%20%20%20%3Cstyle%3E%23map%20%7Bposition%3Aabsolute%3Btop%3A0%3Bbottom%3A0%3Bright%3A0%3Bleft%3A0%3B%7D%3C/style%3E%0A%20%20%20%20%3Cscript%20src%3D%22https%3A//cdn.jsdelivr.net/npm/leaflet%401.6.0/dist/leaflet.js%22%3E%3C/script%3E%0A%20%20%20%20%3Cscript%20src%3D%22https%3A//code.jquery.com/jquery-1.12.4.min.js%22%3E%3C/script%3E%0A%20%20%20%20%3Cscript%20src%3D%22https%3A//maxcdn.bootstrapcdn.com/bootstrap/3.2.0/js/bootstrap.min.js%22%3E%3C/script%3E%0A%20%20%20%20%3Cscript%20src%3D%22https%3A//cdnjs.cloudflare.com/ajax/libs/Leaflet.awesome-markers/2.0.2/leaflet.awesome-markers.js%22%3E%3C/script%3E%0A%20%20%20%20%3Clink%20rel%3D%22stylesheet%22%20href%3D%22https%3A//cdn.jsdelivr.net/npm/leaflet%401.6.0/dist/leaflet.css%22/%3E%0A%20%20%20%20%3Clink%20rel%3D%22stylesheet%22%20href%3D%22https%3A//maxcdn.bootstrapcdn.com/bootstrap/3.2.0/css/bootstrap.min.css%22/%3E%0A%20%20%20%20%3Clink%20rel%3D%22stylesheet%22%20href%3D%22https%3A//maxcdn.bootstrapcdn.com/bootstrap/3.2.0/css/bootstrap-theme.min.css%22/%3E%0A%20%20%20%20%3Clink%20rel%3D%22stylesheet%22%20href%3D%22https%3A//maxcdn.bootstrapcdn.com/font-awesome/4.6.3/css/font-awesome.min.css%22/%3E%0A%20%20%20%20%3Clink%20rel%3D%22stylesheet%22%20href%3D%22https%3A//cdnjs.cloudflare.com/ajax/libs/Leaflet.awesome-markers/2.0.2/leaflet.awesome-markers.css%22/%3E%0A%20%20%20%20%3Clink%20rel%3D%22stylesheet%22%20href%3D%22https%3A//cdn.jsdelivr.net/gh/python-visualization/folium/folium/templates/leaflet.awesome.rotate.min.css%22/%3E%0A%20%20%20%20%0A%20%20%20%20%20%20%20%20%20%20%20%20%3Cmeta%20name%3D%22viewport%22%20content%3D%22width%3Ddevice-width%2C%0A%20%20%20%20%20%20%20%20%20%20%20%20%20%20%20%20initial-scale%3D1.0%2C%20maximum-scale%3D1.0%2C%20user-scalable%3Dno%22%20/%3E%0A%20%20%20%20%20%20%20%20%20%20%20%20%3Cstyle%3E%0A%20%20%20%20%20%20%20%20%20%20%20%20%20%20%20%20%23map_c619007c06284c0da6623356cc646c1b%20%7B%0A%20%20%20%20%20%20%20%20%20%20%20%20%20%20%20%20%20%20%20%20position%3A%20relative%3B%0A%20%20%20%20%20%20%20%20%20%20%20%20%20%20%20%20%20%20%20%20width%3A%20100.0%25%3B%0A%20%20%20%20%20%20%20%20%20%20%20%20%20%20%20%20%20%20%20%20height%3A%20100.0%25%3B%0A%20%20%20%20%20%20%20%20%20%20%20%20%20%20%20%20%20%20%20%20left%3A%200.0%25%3B%0A%20%20%20%20%20%20%20%20%20%20%20%20%20%20%20%20%20%20%20%20top%3A%200.0%25%3B%0A%20%20%20%20%20%20%20%20%20%20%20%20%20%20%20%20%7D%0A%20%20%20%20%20%20%20%20%20%20%20%20%3C/style%3E%0A%20%20%20%20%20%20%20%20%0A%3C/head%3E%0A%3Cbody%3E%20%20%20%20%0A%20%20%20%20%0A%20%20%20%20%20%20%20%20%20%20%20%20%3Cdiv%20class%3D%22folium-map%22%20id%3D%22map_c619007c06284c0da6623356cc646c1b%22%20%3E%3C/div%3E%0A%20%20%20%20%20%20%20%20%0A%3C/body%3E%0A%3Cscript%3E%20%20%20%20%0A%20%20%20%20%0A%20%20%20%20%20%20%20%20%20%20%20%20var%20map_c619007c06284c0da6623356cc646c1b%20%3D%20L.map%28%0A%20%20%20%20%20%20%20%20%20%20%20%20%20%20%20%20%22map_c619007c06284c0da6623356cc646c1b%22%2C%0A%20%20%20%20%20%20%20%20%20%20%20%20%20%20%20%20%7B%0A%20%20%20%20%20%20%20%20%20%20%20%20%20%20%20%20%20%20%20%20center%3A%20%5B47.40875%2C%208.50778%5D%2C%0A%20%20%20%20%20%20%20%20%20%20%20%20%20%20%20%20%20%20%20%20crs%3A%20L.CRS.EPSG3857%2C%0A%20%20%20%20%20%20%20%20%20%20%20%20%20%20%20%20%20%20%20%20zoom%3A%2017%2C%0A%20%20%20%20%20%20%20%20%20%20%20%20%20%20%20%20%20%20%20%20zoomControl%3A%20true%2C%0A%20%20%20%20%20%20%20%20%20%20%20%20%20%20%20%20%20%20%20%20preferCanvas%3A%20false%2C%0A%20%20%20%20%20%20%20%20%20%20%20%20%20%20%20%20%7D%0A%20%20%20%20%20%20%20%20%20%20%20%20%29%3B%0A%0A%20%20%20%20%20%20%20%20%20%20%20%20%0A%0A%20%20%20%20%20%20%20%20%0A%20%20%20%20%0A%20%20%20%20%20%20%20%20%20%20%20%20var%20tile_layer_8d14e05888914897976396619be2b850%20%3D%20L.tileLayer%28%0A%20%20%20%20%20%20%20%20%20%20%20%20%20%20%20%20%22https%3A//%7Bs%7D.tile.openstreetmap.org/%7Bz%7D/%7Bx%7D/%7By%7D.png%22%2C%0A%20%20%20%20%20%20%20%20%20%20%20%20%20%20%20%20%7B%22attribution%22%3A%20%22Data%20by%20%5Cu0026copy%3B%20%5Cu003ca%20href%3D%5C%22http%3A//openstreetmap.org%5C%22%5Cu003eOpenStreetMap%5Cu003c/a%5Cu003e%2C%20under%20%5Cu003ca%20href%3D%5C%22http%3A//www.openstreetmap.org/copyright%5C%22%5Cu003eODbL%5Cu003c/a%5Cu003e.%22%2C%20%22detectRetina%22%3A%20false%2C%20%22maxNativeZoom%22%3A%2018%2C%20%22maxZoom%22%3A%2018%2C%20%22minZoom%22%3A%200%2C%20%22noWrap%22%3A%20false%2C%20%22opacity%22%3A%201%2C%20%22subdomains%22%3A%20%22abc%22%2C%20%22tms%22%3A%20false%7D%0A%20%20%20%20%20%20%20%20%20%20%20%20%29.addTo%28map_c619007c06284c0da6623356cc646c1b%29%3B%0A%20%20%20%20%20%20%20%20%0A%20%20%20%20%0A%20%20%20%20%20%20%20%20%20%20%20%20var%20marker_1c815a561b8b408b9c4fea1cf4b41c43%20%3D%20L.marker%28%0A%20%20%20%20%20%20%20%20%20%20%20%20%20%20%20%20%5B47.40875%2C%208.50778%5D%2C%0A%20%20%20%20%20%20%20%20%20%20%20%20%20%20%20%20%7B%7D%0A%20%20%20%20%20%20%20%20%20%20%20%20%29.addTo%28map_c619007c06284c0da6623356cc646c1b%29%3B%0A%20%20%20%20%20%20%20%20%0A%20%20%20%20%0A%20%20%20%20%20%20%20%20%20%20%20%20var%20icon_e7ef7856f03042129c124c2f908e20a3%20%3D%20L.AwesomeMarkers.icon%28%0A%20%20%20%20%20%20%20%20%20%20%20%20%20%20%20%20%7B%22extraClasses%22%3A%20%22fa-rotate-0%22%2C%20%22icon%22%3A%20%22info-sign%22%2C%20%22iconColor%22%3A%20%22white%22%2C%20%22markerColor%22%3A%20%22red%22%2C%20%22prefix%22%3A%20%22glyphicon%22%7D%0A%20%20%20%20%20%20%20%20%20%20%20%20%29%3B%0A%20%20%20%20%20%20%20%20%20%20%20%20marker_1c815a561b8b408b9c4fea1cf4b41c43.setIcon%28icon_e7ef7856f03042129c124c2f908e20a3%29%3B%0A%20%20%20%20%20%20%20%20%0A%20%20%20%20%0A%20%20%20%20%20%20%20%20var%20popup_88f3b175b73b4d46a58727ac2e266b46%20%3D%20L.popup%28%7B%22maxWidth%22%3A%20%22100%25%22%7D%29%3B%0A%0A%20%20%20%20%20%20%20%20%0A%20%20%20%20%20%20%20%20%20%20%20%20var%20html_469568e6803b4e5a8d8f51921d5f54df%20%3D%20%24%28%60%3Cdiv%20id%3D%22html_469568e6803b4e5a8d8f51921d5f54df%22%20style%3D%22width%3A%20100.0%25%3B%20height%3A%20100.0%25%3B%22%3EETH%3C/div%3E%60%29%5B0%5D%3B%0A%20%20%20%20%20%20%20%20%20%20%20%20popup_88f3b175b73b4d46a58727ac2e266b46.setContent%28html_469568e6803b4e5a8d8f51921d5f54df%29%3B%0A%20%20%20%20%20%20%20%20%0A%0A%20%20%20%20%20%20%20%20marker_1c815a561b8b408b9c4fea1cf4b41c43.bindPopup%28popup_88f3b175b73b4d46a58727ac2e266b46%29%0A%20%20%20%20%20%20%20%20%3B%0A%0A%20%20%20%20%20%20%20%20%0A%20%20%20%20%0A%3C/script%3E onload=\"this.contentDocument.open();this.contentDocument.write(    decodeURIComponent(this.getAttribute('data-html')));this.contentDocument.close();\" allowfullscreen webkitallowfullscreen mozallowfullscreen></iframe></div></div>"
      ],
      "text/plain": [
       "<folium.folium.Map at 0x7faad82b79d0>"
      ]
     },
     "execution_count": 73,
     "metadata": {},
     "output_type": "execute_result"
    }
   ],
   "source": [
    "import folium\n",
    "m = folium.Map(location=[47.40875, 8.50778], zoom_start=17)\n",
    "\n",
    "folium.Marker(\n",
    "    location=[47.40875, 8.50778],\n",
    "    popup=\"ETH\",\n",
    "    icon=folium.Icon(color=\"red\", icon=\"info-sign\"),\n",
    ").add_to(m)\n",
    "\n",
    "m"
   ]
  },
  {
   "cell_type": "code",
   "execution_count": null,
   "id": "064e0271",
   "metadata": {},
   "outputs": [],
   "source": []
  }
 ],
 "metadata": {
  "kernelspec": {
   "display_name": "Python 3.7.4 64-bit ('base': conda)",
   "language": "python",
   "name": "python374jvsc74a57bd0398a7d05fcda3e7b587d8600f5603e56e21eae656783de71b759244c5ef985d2"
  },
  "language_info": {
   "codemirror_mode": {
    "name": "ipython",
    "version": 3
   },
   "file_extension": ".py",
   "mimetype": "text/x-python",
   "name": "python",
   "nbconvert_exporter": "python",
   "pygments_lexer": "ipython3",
   "version": "3.9.7"
  }
 },
 "nbformat": 4,
 "nbformat_minor": 5
}
