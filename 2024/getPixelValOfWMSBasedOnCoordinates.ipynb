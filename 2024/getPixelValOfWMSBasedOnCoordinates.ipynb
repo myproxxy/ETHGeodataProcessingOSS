{
 "cells": [
  {
   "cell_type": "code",
   "execution_count": 1,
   "id": "5ecca0e3",
   "metadata": {},
   "outputs": [],
   "source": [
    "import os\n",
    "import shutil\n",
    "import sys\n",
    "import urllib.request\n"
   ]
  },
  {
   "cell_type": "code",
   "execution_count": 25,
   "id": "e12f6e15",
   "metadata": {},
   "outputs": [
    {
     "name": "stdout",
     "output_type": "stream",
     "text": [
      "Successfully downloaded resource https://wms.geo.admin.ch/?SERVICE=WMS&REQUEST=GetMap&VERSION=1.3.0&LAYERS=ch.swisstopo.landeskarte-farbe-10&STYLES=default&CRS=EPSG:2056&BBOX=2601859.6,1200946.5,2601861.6,1200948.5&WIDTH=20&HEIGHT=20&FORMAT=image/png\n"
     ]
    }
   ],
   "source": [
    "def download(url, dest, fileName=None):\n",
    "    try:\n",
    "        r= urllib.request.urlopen(url)\n",
    "        fileName = os.path.join(dest, fileName)\n",
    "        with open(fileName, 'wb') as f:\n",
    "            shutil.copyfileobj(r,f)\n",
    "        r.close()\n",
    "        print(\"Successfully downloaded resource {}\".format(url))\n",
    "    except:\n",
    "        print(\"ERROR Downloading resource {}\".format(url))\n",
    "\n",
    "#path2save2 = \"Data/\" #Zielpfad\n",
    "path2save2 = \"\" #Zielpfad\n",
    "\n",
    "'''\n",
    "\n",
    "# white area \n",
    "targetX = 2601853.1\n",
    "targetY = 1200951.5\n",
    "\n",
    "#black building\n",
    "targetX = 2601880.0\n",
    "targetY = 1200955.0\n",
    "\n",
    "# green tree\n",
    "targetX = 2601860.6\n",
    "targetY = 1200947.5\n",
    "'''\n",
    "\n",
    "# green tree\n",
    "targetX = 2601860.6\n",
    "targetY = 1200947.5\n",
    "\n",
    "#BBOX=2550000,1060000,2660000,1140000\n",
    "bbox = f\"{targetX-1},{targetY-1},{targetX+1},{targetY+1}\"\n",
    "\n",
    "wmsfile = \"wms.gif\"\n",
    "#wmslink = \"https://wms.geo.admin.ch/?SERVICE=WMS&REQUEST=GetMap&VERSION=1.3.0&LAYERS=ch.bafu.bundesinventare-bln&STYLES=default&CRS=EPSG:2056&BBOX=2550000,1060000,2660000,1140000&WIDTH=800&HEIGHT=582&FORMAT=image/png\"\n",
    "#wmslink = \"https://wms.geo.admin.ch/?SERVICE=WMS&REQUEST=GetMap&VERSION=1.3.0&LAYERS=ch.swisstopo.landeskarte-farbe-10&STYLES=default&CRS=EPSG:2056&BBOX=2550000,1060000,2660000,1140000&WIDTH=800&HEIGHT=582&FORMAT=image/png\"\n",
    "wmslink = f\"https://wms.geo.admin.ch/?SERVICE=WMS&REQUEST=GetMap&VERSION=1.3.0&LAYERS=ch.swisstopo.landeskarte-farbe-10&STYLES=default&CRS=EPSG:2056&BBOX={bbox}&WIDTH=20&HEIGHT=20&FORMAT=image/png\"\n",
    "download(wmslink,path2save2,wmsfile)\n"
   ]
  },
  {
   "cell_type": "code",
   "execution_count": 35,
   "id": "6799b6f2",
   "metadata": {},
   "outputs": [
    {
     "name": "stdout",
     "output_type": "stream",
     "text": [
      "[106. 173.  67. 255.]\n"
     ]
    },
    {
     "data": {
      "text/plain": [
       "106.0"
      ]
     },
     "execution_count": 35,
     "metadata": {},
     "output_type": "execute_result"
    }
   ],
   "source": [
    "import matplotlib.image as mpimg\n",
    "\n",
    "img=mpimg.imread(wmsfile)[10,10]*255\n",
    "print(img)\n",
    "img[0]"
   ]
  },
  {
   "cell_type": "code",
   "execution_count": 24,
   "id": "32580bc6",
   "metadata": {},
   "outputs": [],
   "source": [
    "# white area:\n",
    "# array([0.9529412, 0.9607843, 0.9647059, 1.       ], dtype=float32)\n",
    "\n",
    "# green tree:\n",
    "# array([0.9529412 , 0.9607843 , 0.96862745, 1.        ], dtype=float32)\n",
    "\n",
    "#black building:\n",
    "# array([0., 0., 0., 1.], dtype=float32)\n"
   ]
  },
  {
   "cell_type": "code",
   "execution_count": null,
   "id": "4478debf",
   "metadata": {},
   "outputs": [],
   "source": []
  },
  {
   "cell_type": "code",
   "execution_count": null,
   "id": "22c3f197",
   "metadata": {},
   "outputs": [],
   "source": []
  },
  {
   "cell_type": "code",
   "execution_count": 41,
   "id": "f8ff7991",
   "metadata": {},
   "outputs": [],
   "source": [
    "\n",
    "import pandas as pd\n",
    "import random\n",
    "import matplotlib.image as mpimg\n",
    "\n",
    "def download(url, dest, fileName=None):\n",
    "    try:\n",
    "        r= urllib.request.urlopen(url)\n",
    "        fileName = os.path.join(dest, fileName)\n",
    "        with open(fileName, 'wb') as f:\n",
    "            shutil.copyfileobj(r,f)\n",
    "        r.close()\n",
    "        #print(\"Successfully downloaded resource {}\".format(url))\n",
    "    except:\n",
    "        print(\"ERROR Downloading resource {}\".format(url))\n",
    "\n",
    "\n",
    "\n",
    "xlist =random.sample(range(2606000,2750000),100) \n",
    "ylist =random.sample(range(1151000,1245000),100) \n",
    "\n",
    "dfSampleCoords = pd.DataFrame(\n",
    "    {'x': xlist,\n",
    "     'y': ylist\n",
    "    })\n",
    "dfSampleCoords['id'] = sampleCoords.index+1\n",
    "wmsfile = \"wms.gif\"\n",
    "path2save2 = \"\"\n",
    "\n",
    "for index, row in dfSampleCoords.iterrows():\n",
    "    curx=row['x']\n",
    "    cury=row['y']\n",
    "    curid=row['id']\n",
    "    \n",
    "    bbox = f\"{curx-1},{cury-1},{curx+1},{cury+1}\"\n",
    "    wmslink = f\"https://wms.geo.admin.ch/?SERVICE=WMS&REQUEST=GetMap&VERSION=1.3.0&LAYERS=ch.swisstopo.landeskarte-farbe-10&STYLES=default&CRS=EPSG:2056&BBOX={bbox}&WIDTH=20&HEIGHT=20&FORMAT=image/png\"\n",
    "    download(wmslink,path2save2,wmsfile)\n",
    "    img=mpimg.imread(wmsfile)[10,10]*255\n",
    "    if img[0]==0 and img[1]==0 and img[2]==0:\n",
    "        print(f\"point {curid} within building\")\n",
    "    else:\n",
    "        print(f\"****** point {curid} NOT within building ******\")\n",
    "\n",
    "print(\"\\nPROCESS FINISHED\")\n"
   ]
  },
  {
   "cell_type": "code",
   "execution_count": null,
   "id": "bb4f077a",
   "metadata": {},
   "outputs": [],
   "source": []
  }
 ],
 "metadata": {
  "kernelspec": {
   "display_name": "Python 3 (ipykernel)",
   "language": "python",
   "name": "python3"
  },
  "language_info": {
   "codemirror_mode": {
    "name": "ipython",
    "version": 3
   },
   "file_extension": ".py",
   "mimetype": "text/x-python",
   "name": "python",
   "nbconvert_exporter": "python",
   "pygments_lexer": "ipython3",
   "version": "3.9.7"
  }
 },
 "nbformat": 4,
 "nbformat_minor": 5
}
