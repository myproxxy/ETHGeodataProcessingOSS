{
 "cells": [
  {
   "cell_type": "markdown",
   "id": "c4cd8024",
   "metadata": {},
   "source": [
    "# Package Installation for Geodata Processing"
   ]
  },
  {
   "cell_type": "code",
   "execution_count": 1,
   "id": "9ca45014",
   "metadata": {},
   "outputs": [],
   "source": [
    "import warnings\n",
    "warnings.filterwarnings('ignore')"
   ]
  },
  {
   "cell_type": "markdown",
   "id": "78a78065",
   "metadata": {},
   "source": [
    "# Test the Installation"
   ]
  },
  {
   "cell_type": "code",
   "execution_count": 2,
   "id": "7936d945",
   "metadata": {},
   "outputs": [
    {
     "name": "stdout",
     "output_type": "stream",
     "text": [
      "Package gdal successfully imported!\n",
      "Package gdal successfully imported!\n",
      "Package psycopg2 successfully imported!\n",
      "Package shapely successfully imported!\n",
      "Package fiona successfully imported!\n",
      "Package rasterio successfully imported!\n",
      "Package geopandas successfully imported!\n",
      "Package folium successfully imported!\n",
      "Package json successfully imported!\n",
      "Package os successfully imported!\n",
      "Package sys successfully imported!\n"
     ]
    }
   ],
   "source": [
    "import importlib\n",
    "def importPackages(modules):\n",
    "    for library in modules:\n",
    "        try:\n",
    "            if library == 'gdal':\n",
    "                exec(\"from osgeo import gdal\")\n",
    "                print(\"Package {} successfully imported!\".format(library))\n",
    "            else:\n",
    "                exec(\"from {module} import *\".format(module=library))\n",
    "            print(\"Package {} successfully imported!\".format(library))\n",
    "        except Exception as e:\n",
    "            print(\"\\n\\n E R R O R !!! With Package {}\".format(library))\n",
    "            print(e)\n",
    "    #print(dir()) # Exactly working as thought\n",
    "pckList = []\n",
    "pckList.append('gdal')\n",
    "pckList.append('psycopg2')\n",
    "pckList.append('shapely')\n",
    "pckList.append('fiona')\n",
    "pckList.append('rasterio')\n",
    "pckList.append('geopandas')\n",
    "pckList.append('folium')\n",
    "pckList.append('json')\n",
    "pckList.append('os')\n",
    "pckList.append('sys')\n",
    "\n",
    "importPackages(pckList)"
   ]
  },
  {
   "cell_type": "markdown",
   "id": "7ac8043b",
   "metadata": {},
   "source": [
    "## Test Database connection to PostgreSQL/PostGIS"
   ]
  },
  {
   "cell_type": "markdown",
   "id": "e33fef56",
   "metadata": {},
   "source": [
    "<font color='red'>You need to set the correct credentials (user & password) first!</font>"
   ]
  },
  {
   "cell_type": "code",
   "execution_count": 3,
   "id": "b6335179",
   "metadata": {},
   "outputs": [
    {
     "name": "stdout",
     "output_type": "stream",
     "text": [
      "True\n"
     ]
    }
   ],
   "source": [
    "import psycopg2\n",
    "def postgres_test(dbn,h,u,pwd,p):\n",
    "    try:\n",
    "        conn = psycopg2.connect(\"dbname={} host={} user={} password={} port={}\".format(dbn,h,u,pwd,p))\n",
    "        conn.close()\n",
    "        return True\n",
    "    except:\n",
    "        return False\n",
    "\n",
    "database = \"casdb2023\"\n",
    "host = \"ikgpgis.ethz.ch\"\n",
    "usr = \"casuser\"\n",
    "pwd = \"mrPope-2323-IKG\"\n",
    "port = \"5432\"\n",
    "print(postgres_test(database,host,usr,pwd,port))\n"
   ]
  },
  {
   "cell_type": "markdown",
   "id": "b3c4d13e",
   "metadata": {},
   "source": [
    "## Test Reading Data"
   ]
  },
  {
   "cell_type": "markdown",
   "id": "5629bdc0",
   "metadata": {},
   "source": [
    "Copy from one format (Esri Shape) to another (MapInfo) using commandline tool ```ogr2ogr```"
   ]
  },
  {
   "cell_type": "code",
   "execution_count": 4,
   "id": "3ba0585b",
   "metadata": {},
   "outputs": [
    {
     "name": "stderr",
     "output_type": "stream",
     "text": [
      "Warning 1: The output driver does not seem to natively support Integer64 type for field gem_bfs. Converting it to Real instead. -mapFieldType can be used to control field type conversion.\n",
      "Warning 1: The output driver does not seem to natively support Integer64 type for field gmde_nr. Converting it to Real instead. -mapFieldType can be used to control field type conversion.\n",
      "Warning 1: The output driver does not seem to natively support Integer64 type for field bzrk_nr. Converting it to Real instead. -mapFieldType can be used to control field type conversion.\n",
      "Warning 1: The output driver does not seem to natively support Integer64 type for field eg_nr. Converting it to Real instead. -mapFieldType can be used to control field type conversion.\n",
      "Warning 1: The output driver does not seem to natively support Integer64 type for field plz. Converting it to Real instead. -mapFieldType can be used to control field type conversion.\n",
      "Warning 1: The output driver does not seem to natively support Integer64 type for field archive. Converting it to Real instead. -mapFieldType can be used to control field type conversion.\n"
     ]
    },
    {
     "data": {
      "text/plain": [
       "0"
      ]
     },
     "execution_count": 4,
     "metadata": {},
     "output_type": "execute_result"
    }
   ],
   "source": [
    "import os\n",
    "os.system('ogr2ogr -f \"MapInfo File\" Data/Gemeinden_Solothurn.tab Data/Gemeinden_Solothurn.shp')\n",
    "os.system('ogr2ogr -f \"GeoJSON\"  -t_srs \"EPSG:4326\" Data/Gemeinden_SolothurnWGS84.json Data/Gemeinden_Solothurn.shp')\n"
   ]
  },
  {
   "cell_type": "markdown",
   "id": "bd72e80c",
   "metadata": {},
   "source": [
    "Read some data..\n",
    "\n",
    "You should see something like:\n",
    "```\n",
    "<osgeo.ogr.DataSource; proxy of <Swig Object of type 'OGRDataSourceShadow *' at 0x7fab289df960> >\n",
    "Gemeinden_Solothurn\n",
    "109\n",
    "Der Datensatz 'Gemeinden_Solothurn' hat 109 Gemeinden\n",
    "```"
   ]
  },
  {
   "cell_type": "code",
   "execution_count": 3,
   "id": "0b24b4c4",
   "metadata": {},
   "outputs": [
    {
     "name": "stdout",
     "output_type": "stream",
     "text": [
      "<osgeo.ogr.DataSource; proxy of <Swig Object of type 'OGRDataSourceShadow *' at 0x174f8abe0> >\n",
      "Gemeinden_Solothurn\n",
      "109\n",
      "Der Datensatz 'Gemeinden_Solothurn' hat 109 Gemeinden\n"
     ]
    }
   ],
   "source": [
    "from osgeo import ogr\n",
    "drv = ogr.GetDriverByName(\"ESRI Shapefile\")\n",
    "path2ds = \"Data/Gemeinden_Solothurn.shp\"\n",
    "datasource = drv.Open(path2ds)\n",
    "print(datasource)\n",
    "\n",
    "mylayer = datasource.GetLayer(0)\n",
    "print(mylayer.GetName())\n",
    "\n",
    "ftrcnt = mylayer.GetFeatureCount()\n",
    "print(ftrcnt)\n",
    "\n",
    "print(\"Der Datensatz '%s' hat %i Gemeinden\" %(mylayer.GetName(),int(ftrcnt)))"
   ]
  },
  {
   "cell_type": "code",
   "execution_count": null,
   "id": "116faf53-62d0-4c65-adf5-a232d670e95b",
   "metadata": {},
   "outputs": [],
   "source": []
  },
  {
   "cell_type": "code",
   "execution_count": 4,
   "id": "fec55d7e-7d9c-4431-954f-b6882d1d3415",
   "metadata": {},
   "outputs": [],
   "source": [
    "def analyzeGeometry(geometry, indent=0):\n",
    "    s = []\n",
    "    s.append(\"  \" * indent)\n",
    "    s.append(geometry.GetGeometryName())\n",
    "    if geometry.GetPointCount() > 0:\n",
    "        s.append(\" mit %d Stuetzpunkten\" % geometry.GetPointCount())\n",
    "    if geometry.GetGeometryCount() > 0:\n",
    "        s.append(\" enthaelt:\")\n",
    "\n",
    "    print (\"\".join(s))\n",
    "\n",
    "    for i in range(geometry.GetGeometryCount()):\n",
    "        analyzeGeometry(geometry.GetGeometryRef(i), indent+1)"
   ]
  },
  {
   "cell_type": "code",
   "execution_count": 5,
   "id": "80d6a306-2379-4879-bb48-18f79b92a0c5",
   "metadata": {},
   "outputs": [
    {
     "name": "stdout",
     "output_type": "stream",
     "text": [
      "Die Gemeinde in Solothurn mit:\n",
      "   den wenigsten Stützpunkten:('Rodersdorf', 112)\n",
      "   den meisten Stützpunkten:('Erlinsbach SO', 1407)\n",
      "(Durchschnitt: 440)\n"
     ]
    }
   ],
   "source": [
    "ftrDict = {}\n",
    "for feature in mylayer:\n",
    "    geometry = feature.GetGeometryRef()\n",
    "    geomCnt = geometry.GetGeometryCount()\n",
    "    if geometry.GetGeometryRef(geomCnt-1).GetPointCount() > 0:\n",
    "        pntCnt = geometry.GetGeometryRef(geomCnt-1).GetPointCount()\n",
    "        ftrDict[feature.GetField('gmde_name')] = pntCnt\n",
    "sortedFtrDict = sorted(ftrDict.items(), key=lambda x:x[1])\n",
    "avgPntCnt = int(sum(ftrDict.values()) / len(ftrDict))\n",
    "print(f\"Die Gemeinde in Solothurn mit:\\n   den wenigsten Stützpunkten:{sortedFtrDict[0]}\\n   den meisten Stützpunkten:{sortedFtrDict[-1]}\\n(Durchschnitt: {avgPntCnt})\")\n",
    "\n"
   ]
  },
  {
   "cell_type": "code",
   "execution_count": null,
   "id": "eb7eeb33-d6b0-4030-ba5d-9a7b9c3aab2b",
   "metadata": {},
   "outputs": [],
   "source": []
  },
  {
   "cell_type": "code",
   "execution_count": null,
   "id": "b3af324a-e5fe-4e9d-be5f-96e2980a0762",
   "metadata": {},
   "outputs": [],
   "source": []
  },
  {
   "cell_type": "code",
   "execution_count": null,
   "id": "76ca1283-5e09-485e-b48e-f971eb5f55da",
   "metadata": {},
   "outputs": [],
   "source": []
  },
  {
   "cell_type": "code",
   "execution_count": null,
   "id": "be30298b-e242-4c84-b8e8-a9daf41a9c96",
   "metadata": {},
   "outputs": [],
   "source": []
  },
  {
   "cell_type": "markdown",
   "id": "803edd61",
   "metadata": {},
   "source": [
    "## Rasterdaten\n",
    "\n",
    "\n",
    "You should see something like:\n",
    "```\n",
    "Anzahl Spalten: 5800\n",
    "Anzahl Zeilen: 4800\n",
    "Anzahl Baender: 3\n",
    "```"
   ]
  },
  {
   "cell_type": "code",
   "execution_count": null,
   "id": "bae65124",
   "metadata": {},
   "outputs": [],
   "source": [
    "from osgeo import gdal\n",
    "\n",
    "fn = 'Data/ortho14_5m_rgb_solothurn.tif'\n",
    "ds = gdal.Open(fn)\n",
    "if ds is None:\n",
    "    print ('Datensatz %s konnte nicht geöffnet werden!' %fn)\n",
    "    sys.exit()\n",
    "\n",
    "#Dimension des Rasterbildes\n",
    "cols = ds.RasterXSize\n",
    "rows = ds.RasterYSize\n",
    "bands = ds.RasterCount\n",
    "\n",
    "print (\"Anzahl Spalten: %d\" %cols)\n",
    "print (\"Anzahl Zeilen: %d\" %rows)\n",
    "print (\"Anzahl Baender: %d\" %bands)"
   ]
  },
  {
   "cell_type": "markdown",
   "id": "56b04666",
   "metadata": {},
   "source": [
    "## Commandline commands\n",
    "\n",
    "\n",
    "You should see something like:\n",
    "```\n",
    "command to run: gdaldem slope ../Data/Elevation_raster.tif ../Data/Ele_slope.tif -s 10000\n",
    "0...10...20...30...40...50...60...70...80...90...100 - done.\n",
    "```"
   ]
  },
  {
   "cell_type": "code",
   "execution_count": null,
   "id": "1e18fe3b",
   "metadata": {},
   "outputs": [],
   "source": [
    "imagefilename = \"Data/Elevation_raster.tif\"\n",
    "path = \"Data/\"\n",
    "\n",
    "sloapcommand = 'gdaldem slope %s %sEle_slope.tif -s 10000' %(imagefilename,path)\n",
    "print (\"command to run: %s\" %sloapcommand)   #gdaldem slope input_dem output_slope_map\n",
    "\n",
    "os.system(sloapcommand)"
   ]
  },
  {
   "cell_type": "markdown",
   "id": "0ee3d4bb",
   "metadata": {},
   "source": [
    "## Geowebservices\n",
    "\n",
    "You should see something like:\n",
    "```\n",
    "Successfully downloaded resource http://wms.geo.admin.ch/?SERVICE=WMS&REQUEST=GetMap&VERSION=1.3.0&LAYERS=ch.bfs.arealstatistik-1985-04&STYLES=default&CRS=EPSG:21781&BBOX=550000,60000,660000,140000&WIDTH=800&HEIGHT=582&FORMAT=image/png\n",
    "```"
   ]
  },
  {
   "cell_type": "code",
   "execution_count": null,
   "id": "b614363c",
   "metadata": {},
   "outputs": [],
   "source": [
    "# -*- coding: utf-8 -*-\n",
    "import os, shutil, sys\n",
    "import urllib.request\n",
    "from osgeo import gdal\n",
    "from osgeo.gdalconst import *\n",
    "\n",
    "def download(url, dest, fileName=None):\n",
    "    try:\n",
    "        r= urllib.request.urlopen(url)\n",
    "        fileName = os.path.join(dest, fileName)\n",
    "        print(f\"Download stored in {fileName}.\")\n",
    "        with open(fileName, 'wb') as f:\n",
    "            shutil.copyfileobj(r,f)\n",
    "        r.close()\n",
    "        print(\"Successfully downloaded resource {}\".format(url))\n",
    "    except:\n",
    "        print(\"ERROR Downloading resource {}\".format(url))\n",
    "\n",
    "path2save2 = \"Data/\" #Zielpfad\n",
    "wmsfile = \"wms.gif\"\n",
    "wmslink = \"https://wms.geo.admin.ch/?SERVICE=WMS&REQUEST=GetMap&VERSION=1.3.0&LAYERS=ch.bafu.bundesinventare-bln&STYLES=default&CRS=EPSG:2056&BBOX=2550000,1060000,2660000,1140000&WIDTH=800&HEIGHT=582&FORMAT=image/png\"\n",
    "download(wmslink,path2save2,wmsfile)\n",
    "    "
   ]
  },
  {
   "cell_type": "markdown",
   "id": "7c78a19d",
   "metadata": {},
   "source": [
    "## Shapely\n",
    "\n",
    "You should see something like:\n",
    "```\n",
    "Gemeinde Rohr hat folgenden Zentroid: (638811.067724, 251323.787658) und folgende Flaeche 2229578.988870m2\n",
    "```"
   ]
  },
  {
   "cell_type": "code",
   "execution_count": null,
   "id": "e8c23792",
   "metadata": {},
   "outputs": [],
   "source": [
    "from osgeo import ogr\n",
    "import shapely.wkt\n",
    "\n",
    "shapefile = ogr.Open(\"Data/Gemeinden_Solothurn.shp\")\n",
    "if shapefile is None:\n",
    "    print (\"Datensatz konnte nicht geoeffnet werden.\\n\")\n",
    "    sys.exit()\n",
    "\n",
    "layer = shapefile.GetLayer(0)\n",
    "\n",
    "#Gemeindegeometry extrahieren:\n",
    "geometry = None\n",
    "cnt = 0\n",
    "for feature in layer:\n",
    "    while cnt < 1:\n",
    "        #Extract Gemeinde-Name\n",
    "        gemname = feature.GetField(\"gmde_name\")\n",
    "        #Get Geometry (Polygon)\n",
    "        gemgeometry = feature.GetGeometryRef()\n",
    "        #\"Convert\" Geometry to shapely-geometry\n",
    "        gemgeomaswkt = gemgeometry.ExportToWkt()\n",
    "        shapelypolygon = shapely.wkt.loads(gemgeomaswkt)\n",
    "        #Extract Centroid\n",
    "        centroid_point = shapelypolygon.centroid\n",
    "        x=centroid_point.x\n",
    "        y=centroid_point.y\n",
    "        area = shapelypolygon.area\n",
    "        #Printout Information\n",
    "        print (\"Gemeinde %s hat folgenden Zentroid: (%f, %f) und folgende Flaeche %fm2\" %(gemname, x, y, area))\n",
    "        cnt += 1"
   ]
  },
  {
   "cell_type": "markdown",
   "id": "bff7d70e",
   "metadata": {},
   "source": [
    "## Fiona\n",
    "\n",
    "You should see something like:\n",
    "```\n",
    "Anzahl Datensätze: 109 \n",
    "Format: ESRI Shapefile\n",
    "Geo-Referenzsystem: {'proj': 'somerc', 'lat_0': 46.9524055555556, 'lon_0': 7.43958333333333, 'k_0': 1, 'x_0': 600000, 'y_0': 200000, 'ellps': 'bessel', 'units': 'm', 'no_defs': True}\n",
    "Ausdehnung: (592560.389, 213702.99, 644759.038, 261329.631)\n",
    "```"
   ]
  },
  {
   "cell_type": "code",
   "execution_count": null,
   "id": "7a396363",
   "metadata": {},
   "outputs": [],
   "source": [
    "import fiona\n",
    "\n",
    "c = fiona.open('Data/Gemeinden_Solothurn.shp', 'r')\n",
    "print(\"Anzahl Datensätze: %i \" %len(list(c)))\n",
    "print(\"Format: %s\" %c.driver)\n",
    "print(\"Geo-Referenzsystem: %s\" %c.crs)\n",
    "print(\"Ausdehnung: %s\" %str(c.bounds))\n",
    "\n"
   ]
  },
  {
   "cell_type": "markdown",
   "id": "79a6c5d9",
   "metadata": {},
   "source": [
    "## Folium\n",
    "\n",
    "An interactive map located at EHT ZH Hönggerberg with a pin should appear."
   ]
  },
  {
   "cell_type": "code",
   "execution_count": 8,
   "id": "1535ead4",
   "metadata": {},
   "outputs": [
    {
     "data": {
      "text/html": [
       "<div style=\"width:100%;\"><div style=\"position:relative;width:100%;height:0;padding-bottom:60%;\"><span style=\"color:#565656\">Make this Notebook Trusted to load map: File -> Trust Notebook</span><iframe srcdoc=\"&lt;!DOCTYPE html&gt;\n",
       "&lt;html&gt;\n",
       "&lt;head&gt;\n",
       "    \n",
       "    &lt;meta http-equiv=&quot;content-type&quot; content=&quot;text/html; charset=UTF-8&quot; /&gt;\n",
       "    \n",
       "        &lt;script&gt;\n",
       "            L_NO_TOUCH = false;\n",
       "            L_DISABLE_3D = false;\n",
       "        &lt;/script&gt;\n",
       "    \n",
       "    &lt;style&gt;html, body {width: 100%;height: 100%;margin: 0;padding: 0;}&lt;/style&gt;\n",
       "    &lt;style&gt;#map {position:absolute;top:0;bottom:0;right:0;left:0;}&lt;/style&gt;\n",
       "    &lt;script src=&quot;https://cdn.jsdelivr.net/npm/leaflet@1.9.3/dist/leaflet.js&quot;&gt;&lt;/script&gt;\n",
       "    &lt;script src=&quot;https://code.jquery.com/jquery-3.7.1.min.js&quot;&gt;&lt;/script&gt;\n",
       "    &lt;script src=&quot;https://cdn.jsdelivr.net/npm/bootstrap@5.2.2/dist/js/bootstrap.bundle.min.js&quot;&gt;&lt;/script&gt;\n",
       "    &lt;script src=&quot;https://cdnjs.cloudflare.com/ajax/libs/Leaflet.awesome-markers/2.0.2/leaflet.awesome-markers.js&quot;&gt;&lt;/script&gt;\n",
       "    &lt;link rel=&quot;stylesheet&quot; href=&quot;https://cdn.jsdelivr.net/npm/leaflet@1.9.3/dist/leaflet.css&quot;/&gt;\n",
       "    &lt;link rel=&quot;stylesheet&quot; href=&quot;https://cdn.jsdelivr.net/npm/bootstrap@5.2.2/dist/css/bootstrap.min.css&quot;/&gt;\n",
       "    &lt;link rel=&quot;stylesheet&quot; href=&quot;https://netdna.bootstrapcdn.com/bootstrap/3.0.0/css/bootstrap.min.css&quot;/&gt;\n",
       "    &lt;link rel=&quot;stylesheet&quot; href=&quot;https://cdn.jsdelivr.net/npm/@fortawesome/fontawesome-free@6.2.0/css/all.min.css&quot;/&gt;\n",
       "    &lt;link rel=&quot;stylesheet&quot; href=&quot;https://cdnjs.cloudflare.com/ajax/libs/Leaflet.awesome-markers/2.0.2/leaflet.awesome-markers.css&quot;/&gt;\n",
       "    &lt;link rel=&quot;stylesheet&quot; href=&quot;https://cdn.jsdelivr.net/gh/python-visualization/folium/folium/templates/leaflet.awesome.rotate.min.css&quot;/&gt;\n",
       "    \n",
       "            &lt;meta name=&quot;viewport&quot; content=&quot;width=device-width,\n",
       "                initial-scale=1.0, maximum-scale=1.0, user-scalable=no&quot; /&gt;\n",
       "            &lt;style&gt;\n",
       "                #map_8211d8165949833d2c3a564b2509a8c2 {\n",
       "                    position: relative;\n",
       "                    width: 100.0%;\n",
       "                    height: 100.0%;\n",
       "                    left: 0.0%;\n",
       "                    top: 0.0%;\n",
       "                }\n",
       "                .leaflet-container { font-size: 1rem; }\n",
       "            &lt;/style&gt;\n",
       "        \n",
       "&lt;/head&gt;\n",
       "&lt;body&gt;\n",
       "    \n",
       "    \n",
       "            &lt;div class=&quot;folium-map&quot; id=&quot;map_8211d8165949833d2c3a564b2509a8c2&quot; &gt;&lt;/div&gt;\n",
       "        \n",
       "&lt;/body&gt;\n",
       "&lt;script&gt;\n",
       "    \n",
       "    \n",
       "            var map_8211d8165949833d2c3a564b2509a8c2 = L.map(\n",
       "                &quot;map_8211d8165949833d2c3a564b2509a8c2&quot;,\n",
       "                {\n",
       "                    center: [47.40875, 8.50778],\n",
       "                    crs: L.CRS.EPSG3857,\n",
       "                    zoom: 17,\n",
       "                    zoomControl: true,\n",
       "                    preferCanvas: false,\n",
       "                }\n",
       "            );\n",
       "\n",
       "            \n",
       "\n",
       "        \n",
       "    \n",
       "            var tile_layer_54ce85b6df8ff21fc3e539c626a5c101 = L.tileLayer(\n",
       "                &quot;https://tile.openstreetmap.org/{z}/{x}/{y}.png&quot;,\n",
       "                {&quot;attribution&quot;: &quot;\\u0026copy; \\u003ca href=\\&quot;https://www.openstreetmap.org/copyright\\&quot;\\u003eOpenStreetMap\\u003c/a\\u003e contributors&quot;, &quot;detectRetina&quot;: false, &quot;maxNativeZoom&quot;: 19, &quot;maxZoom&quot;: 19, &quot;minZoom&quot;: 0, &quot;noWrap&quot;: false, &quot;opacity&quot;: 1, &quot;subdomains&quot;: &quot;abc&quot;, &quot;tms&quot;: false}\n",
       "            );\n",
       "        \n",
       "    \n",
       "            tile_layer_54ce85b6df8ff21fc3e539c626a5c101.addTo(map_8211d8165949833d2c3a564b2509a8c2);\n",
       "        \n",
       "    \n",
       "            var marker_a06c1710b815df4f6de85ff9cc3fab3d = L.marker(\n",
       "                [47.40875, 8.50778],\n",
       "                {}\n",
       "            ).addTo(map_8211d8165949833d2c3a564b2509a8c2);\n",
       "        \n",
       "    \n",
       "            var icon_22fc4e7ec0270b45cf14b4ba1f5b7cd0 = L.AwesomeMarkers.icon(\n",
       "                {&quot;extraClasses&quot;: &quot;fa-rotate-0&quot;, &quot;icon&quot;: &quot;info-sign&quot;, &quot;iconColor&quot;: &quot;white&quot;, &quot;markerColor&quot;: &quot;red&quot;, &quot;prefix&quot;: &quot;glyphicon&quot;}\n",
       "            );\n",
       "            marker_a06c1710b815df4f6de85ff9cc3fab3d.setIcon(icon_22fc4e7ec0270b45cf14b4ba1f5b7cd0);\n",
       "        \n",
       "    \n",
       "        var popup_a57c4c140631538589af217e73f358c8 = L.popup({&quot;maxWidth&quot;: &quot;100%&quot;});\n",
       "\n",
       "        \n",
       "            \n",
       "                var html_0b3a8c2e8a169f98e875a2189b87bf9f = $(`&lt;div id=&quot;html_0b3a8c2e8a169f98e875a2189b87bf9f&quot; style=&quot;width: 100.0%; height: 100.0%;&quot;&gt;ETH&lt;/div&gt;`)[0];\n",
       "                popup_a57c4c140631538589af217e73f358c8.setContent(html_0b3a8c2e8a169f98e875a2189b87bf9f);\n",
       "            \n",
       "        \n",
       "\n",
       "        marker_a06c1710b815df4f6de85ff9cc3fab3d.bindPopup(popup_a57c4c140631538589af217e73f358c8)\n",
       "        ;\n",
       "\n",
       "        \n",
       "    \n",
       "&lt;/script&gt;\n",
       "&lt;/html&gt;\" style=\"position:absolute;width:100%;height:100%;left:0;top:0;border:none !important;\" allowfullscreen webkitallowfullscreen mozallowfullscreen></iframe></div></div>"
      ],
      "text/plain": [
       "<folium.folium.Map at 0x10d1a1df0>"
      ]
     },
     "execution_count": 8,
     "metadata": {},
     "output_type": "execute_result"
    }
   ],
   "source": [
    "import folium, json\n",
    "m = folium.Map(location=[47.40875, 8.50778], zoom_start=17)\n",
    "\n",
    "folium.Marker(\n",
    "    location=[47.40875, 8.50778],\n",
    "    popup=\"ETH\",\n",
    "    icon=folium.Icon(color=\"red\", icon=\"info-sign\"),\n",
    ").add_to(m)\n",
    "m"
   ]
  },
  {
   "cell_type": "code",
   "execution_count": null,
   "id": "f788bcf3",
   "metadata": {},
   "outputs": [],
   "source": []
  }
 ],
 "metadata": {
  "kernelspec": {
   "display_name": "Python 3 (ipykernel)",
   "language": "python",
   "name": "python3"
  },
  "language_info": {
   "codemirror_mode": {
    "name": "ipython",
    "version": 3
   },
   "file_extension": ".py",
   "mimetype": "text/x-python",
   "name": "python",
   "nbconvert_exporter": "python",
   "pygments_lexer": "ipython3",
   "version": "3.12.2"
  }
 },
 "nbformat": 4,
 "nbformat_minor": 5
}
